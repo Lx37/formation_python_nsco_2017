{
 "cells": [
  {
   "cell_type": "markdown",
   "metadata": {
    "collapsed": false
   },
   "source": [
    "# Manipulation de fichiers\n"
   ]
  },
  {
   "cell_type": "markdown",
   "metadata": {
    "collapsed": true
   },
   "source": [
    "## open\n",
    "\n",
    "Le mode est donné sous la forme d'une chaîne de caractères. Voici les principaux modes :\n",
    "\n",
    "    'r' : ouverture en lecture (Read).\n",
    "\n",
    "    'w' : ouverture en écriture (Write). Le contenu du fichier est écrasé. Si le fichier n'existe pas, il est créé.\n",
    "\n",
    "    'a' : ouverture en écriture en mode ajout (Append). On écrit à la fin du fichier sans écraser l'ancien contenu du fichier. Si le fichier n'existe pas, il est créé.\n",
    "    "
   ]
  },
  {
   "cell_type": "code",
   "execution_count": null,
   "metadata": {
    "collapsed": false
   },
   "outputs": [],
   "source": [
    "f = open(\"toto.txt\",'r') ### le fichier existe a l'avance, sinon error"
   ]
  },
  {
   "cell_type": "markdown",
   "metadata": {},
   "source": [
    "## close\n",
    "\n",
    "Lorsque l'on a fini de manipuler un fichier ouvert, il est normalement necessaire de le fermer, pour liberer les ressources liées à ce fichier"
   ]
  },
  {
   "cell_type": "code",
   "execution_count": null,
   "metadata": {
    "collapsed": true
   },
   "outputs": [],
   "source": [
    "f.close()"
   ]
  },
  {
   "cell_type": "markdown",
   "metadata": {},
   "source": [
    "## with"
   ]
  },
  {
   "cell_type": "markdown",
   "metadata": {},
   "source": [
    "La \"vraie\" maniere de faire consiste a utiliser le mot-clé \"with\". Ceci evite d'avoir à fermer explicitement le fichier avec close"
   ]
  },
  {
   "cell_type": "code",
   "execution_count": null,
   "metadata": {
    "collapsed": false
   },
   "outputs": [],
   "source": [
    "\n",
    "with open(\"toto.txt\",'r') as f:\n",
    "    print(f.closed) ## closed (et pas 'close') est un marqueur booleen indiquant si le fichier est ouvert ou fermé\n",
    "print(f.closed) \n"
   ]
  },
  {
   "cell_type": "markdown",
   "metadata": {},
   "source": [
    "## read"
   ]
  },
  {
   "cell_type": "code",
   "execution_count": null,
   "metadata": {
    "collapsed": false
   },
   "outputs": [],
   "source": [
    "### je veux voir le contenu de mon fichier\n",
    "val = f.read() \n",
    "print(val)"
   ]
  },
  {
   "cell_type": "markdown",
   "metadata": {},
   "source": [
    "tout le contenu du fichier est lu d'un coup"
   ]
  },
  {
   "cell_type": "code",
   "execution_count": null,
   "metadata": {
    "collapsed": false
   },
   "outputs": [],
   "source": [
    "### la chaine de caratere est une en realité une liste de caratere\n",
    "print(val[0])\n",
    "print(val[1])\n",
    "print(val[-1]) ### c'est le dernier e"
   ]
  },
  {
   "cell_type": "code",
   "execution_count": null,
   "metadata": {
    "collapsed": false
   },
   "outputs": [],
   "source": [
    "### on peut tester la valeur de chaque caractere\n",
    "for i,car in enumerate(val):\n",
    "    if car == \" \" :\n",
    "        break\n",
    "    print(i, car)\n",
    "print(\"fini!\")"
   ]
  },
  {
   "cell_type": "markdown",
   "metadata": {},
   "source": [
    "## readlines"
   ]
  },
  {
   "cell_type": "code",
   "execution_count": null,
   "metadata": {
    "collapsed": false
   },
   "outputs": [],
   "source": [
    "### je veux voir le contenu de mon fichier ligne par ligne\n",
    "print(f.readlines())"
   ]
  },
  {
   "cell_type": "markdown",
   "metadata": {},
   "source": [
    "chaque ligne est stockée comme un element d'un liste python"
   ]
  },
  {
   "cell_type": "code",
   "execution_count": null,
   "metadata": {
    "collapsed": false
   },
   "outputs": [],
   "source": [
    "### !Attention, une fois le readlines effectué, on est la fin du fichier! Pour revenir au debut on peut refaire un open\n",
    "with open(\"toto.txt\") as f:\n",
    "    val = f.readlines()\n",
    "    print(val[1]) ## affiche la deuxieme ligne STP "
   ]
  },
  {
   "cell_type": "code",
   "execution_count": null,
   "metadata": {
    "collapsed": false
   },
   "outputs": [],
   "source": [
    "### ou bien faire \n",
    "f.seek(0)\n",
    "\n"
   ]
  },
  {
   "cell_type": "markdown",
   "metadata": {},
   "source": [
    "la segmentation du fichier par caractere n'est pas tres interessante pour un fichier texte \n",
    "(ca peut l'etre pour un fichier binaire)\n",
    "\n",
    "En revanche la segmentation par mots (i.e. groupe de carateres separés par des espaces) est intéressante"
   ]
  },
  {
   "cell_type": "code",
   "execution_count": null,
   "metadata": {
    "collapsed": false
   },
   "outputs": [],
   "source": [
    "with open(\"toto.txt\") as f:\n",
    "    for line in f.readlines():\n",
    "        print (line.split(\" \"))"
   ]
  },
  {
   "cell_type": "markdown",
   "metadata": {},
   "source": [
    "on a chaque mot segmente dans une liste de chaine de caractere"
   ]
  },
  {
   "cell_type": "code",
   "execution_count": null,
   "metadata": {
    "collapsed": false
   },
   "outputs": [],
   "source": [
    "## pour eviter d'avoir le retour a la ligne '\\n' on peut utiliser la commande strip() sur la ligne\n",
    "with open(\"toto.txt\") as f:\n",
    "    for line in f.readlines():\n",
    "        line = line.strip()\n",
    "        print(line)\n",
    "        if 'toto' in line.split(\" \"):\n",
    "            break ### stop si on trouve 'toto' dans la ligne\n",
    "            \n"
   ]
  },
  {
   "cell_type": "code",
   "execution_count": null,
   "metadata": {
    "collapsed": false
   },
   "outputs": [],
   "source": [
    "### on peut aussi boucler sur la liste apres .split\n",
    "\n",
    "list_mots_sans_te = []\n",
    "with open(\"toto.txt\") as f:\n",
    "    for line in f.readlines():\n",
    "        for word in line.strip().split(\" \"):\n",
    "            \n",
    "            if word.endswith(\"te\"):                \n",
    "                print (\"found fic\") ### stop si le mot commence par fic\n",
    "                \n",
    "            else:\n",
    "                list_mots_sans_te.append(word)\n",
    "print (list_mots_sans_te)\n",
    "\n",
    "                "
   ]
  },
  {
   "cell_type": "code",
   "execution_count": null,
   "metadata": {
    "collapsed": false
   },
   "outputs": [],
   "source": [
    "### Encore plus court (facultatif, si list comrehension a été vu...)\n",
    "with open(\"toto.txt\") as f :\n",
    "    list_mots_sans_te = [word for line in f.readlines() for word in line.strip().split(\" \") if not word.endswith(\"te\")]\n",
    "print(list_mots_sans_te)"
   ]
  },
  {
   "cell_type": "markdown",
   "metadata": {},
   "source": [
    "# Lecture de données"
   ]
  },
  {
   "cell_type": "markdown",
   "metadata": {},
   "source": [
    "## \"A l'ancienne\""
   ]
  },
  {
   "cell_type": "code",
   "execution_count": null,
   "metadata": {
    "collapsed": false
   },
   "outputs": [],
   "source": [
    "with open('Coords.txt', 'r') as f:\n",
    "    \n",
    "    tab = []\n",
    "    for line in f.readlines():\n",
    "        \n",
    "        val = line.strip().split('\\t')\n",
    "        \n",
    "        val = list(map(int,val)) ### string to integer\n",
    "        print (val)\n",
    "        \n",
    "        tab.append(val)\n",
    "        \n",
    "    data = np.array(tab)\n",
    "    \n",
    "    print (data.shape)\n",
    "    "
   ]
  },
  {
   "cell_type": "markdown",
   "metadata": {},
   "source": [
    "## csv"
   ]
  },
  {
   "cell_type": "code",
   "execution_count": null,
   "metadata": {
    "collapsed": false
   },
   "outputs": [],
   "source": [
    "import csv\n",
    "\n",
    "with open('Coords.txt', 'r') as f:\n",
    "    reader = csv.reader(f)\n",
    "    print (reader)\n",
    "    for row in reader:\n",
    "        print (row)\n",
    "\n"
   ]
  },
  {
   "cell_type": "code",
   "execution_count": null,
   "metadata": {
    "collapsed": false
   },
   "outputs": [],
   "source": [
    "### par default, \n",
    "with open('Coords.txt', 'r') as f:\n",
    "    reader = csv.reader(f,delimiter = '\\t')\n",
    "    print (reader)\n",
    "    \n",
    "    list_vals = []\n",
    "    \n",
    "    for row in reader:\n",
    "        list_vals.append(list(map(int,row)))\n",
    "    print(list_vals)\n",
    "    \n",
    "    data= np.array(list_vals)\n",
    "    print(data)\n",
    "    \n",
    "    \n"
   ]
  },
  {
   "cell_type": "code",
   "execution_count": null,
   "metadata": {
    "collapsed": true
   },
   "outputs": [],
   "source": []
  },
  {
   "cell_type": "markdown",
   "metadata": {},
   "source": [
    "## loadtxt (numpy)"
   ]
  },
  {
   "cell_type": "code",
   "execution_count": null,
   "metadata": {
    "collapsed": false
   },
   "outputs": [],
   "source": [
    "import numpy as np\n",
    "\n",
    "data = np.loadtxt(\"Coords.txt\") ### par default, delimiter = \"any whitespace\", c.a.d. un ou plusieurs espace et/ou tabulations\n",
    "\n",
    "print (data)"
   ]
  }
 ],
 "metadata": {
  "kernelspec": {
   "display_name": "Python 3",
   "language": "python",
   "name": "python3"
  },
  "language_info": {
   "codemirror_mode": {
    "name": "ipython",
    "version": 3
   },
   "file_extension": ".py",
   "mimetype": "text/x-python",
   "name": "python",
   "nbconvert_exporter": "python",
   "pygments_lexer": "ipython3",
   "version": "3.5.2"
  }
 },
 "nbformat": 4,
 "nbformat_minor": 2
}
