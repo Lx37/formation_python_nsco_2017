{
 "cells": [
  {
   "cell_type": "markdown",
   "metadata": {
    "collapsed": false
   },
   "source": [
    "# Manipulation de fichiers\n"
   ]
  },
  {
   "cell_type": "markdown",
   "metadata": {
    "collapsed": true
   },
   "source": [
    "## open\n",
    "\n",
    "Le mode est donné sous la forme d'une chaîne de caractères. Voici les principaux modes :\n",
    "\n",
    "    'r' : ouverture en lecture (Read).\n",
    "\n",
    "    'w' : ouverture en écriture (Write). Le contenu du fichier est écrasé. Si le fichier n'existe pas, il est créé.\n",
    "\n",
    "    'a' : ouverture en écriture en mode ajout (Append). On écrit à la fin du fichier sans écraser l'ancien contenu du fichier. Si le fichier n'existe pas, il est créé.\n",
    "    "
   ]
  },
  {
   "cell_type": "code",
   "execution_count": null,
   "metadata": {
    "collapsed": false
   },
   "outputs": [],
   "source": [
    "f = open(\"toto.txt\",'r') ### le fichier existe a l'avance, sinon error"
   ]
  },
  {
   "cell_type": "markdown",
   "metadata": {},
   "source": [
    "## close\n",
    "\n",
    "Lorsque l'on a fini de manipuler un fichier ouvert, il est normalement necessaire de le fermer, pour liberer les ressources liées à ce fichier"
   ]
  },
  {
   "cell_type": "code",
   "execution_count": null,
   "metadata": {
    "collapsed": true
   },
   "outputs": [],
   "source": [
    "f.close()"
   ]
  },
  {
   "cell_type": "markdown",
   "metadata": {},
   "source": [
    "## with"
   ]
  },
  {
   "cell_type": "markdown",
   "metadata": {},
   "source": [
    "La \"vraie\" maniere de faire consiste a utiliser le mot-clé \"with\". Ceci evite d'avoir à fermer explicitement le fichier avec close"
   ]
  },
  {
   "cell_type": "code",
   "execution_count": null,
   "metadata": {
    "collapsed": false
   },
   "outputs": [],
   "source": [
    "\n",
    "with open(\"toto.txt\",'r') as f:\n",
    "    print(f.closed) ## closed (et pas 'close') est un marqueur booleen indiquant si le fichier est ouvert ou fermé\n",
    "print(f.closed) \n"
   ]
  },
  {
   "cell_type": "markdown",
   "metadata": {},
   "source": [
    "## read"
   ]
  },
  {
   "cell_type": "code",
   "execution_count": null,
   "metadata": {
    "collapsed": false
   },
   "outputs": [],
   "source": [
    "### je veux voir le contenu de mon fichier\n",
    "val = f.read() \n",
    "print(val)"
   ]
  },
  {
   "cell_type": "markdown",
   "metadata": {},
   "source": [
    "tout le contenu du fichier est lu d'un coup"
   ]
  },
  {
   "cell_type": "code",
   "execution_count": null,
   "metadata": {
    "collapsed": false
   },
   "outputs": [],
   "source": [
    "### la chaine de caratere est une en realité une liste de caratere\n",
    "print(val[0])\n",
    "print(val[1])\n",
    "print(val[-1]) ### c'est le dernier e"
   ]
  },
  {
   "cell_type": "code",
   "execution_count": null,
   "metadata": {
    "collapsed": false
   },
   "outputs": [],
   "source": [
    "### on peut tester la valeur de chaque caractere\n",
    "for i,car in enumerate(val):\n",
    "    if car == \" \" :\n",
    "        break\n",
    "    print(i, car)\n",
    "print(\"fini!\")"
   ]
  },
  {
   "cell_type": "markdown",
   "metadata": {},
   "source": [
    "## readlines"
   ]
  },
  {
   "cell_type": "code",
   "execution_count": null,
   "metadata": {
    "collapsed": false
   },
   "outputs": [],
   "source": [
    "### je veux voir le contenu de mon fichier ligne par ligne\n",
    "print(f.readlines())"
   ]
  },
  {
   "cell_type": "markdown",
   "metadata": {},
   "source": [
    "chaque ligne est stockée comme un element d'un liste python"
   ]
  },
  {
   "cell_type": "code",
   "execution_count": null,
   "metadata": {
    "collapsed": false
   },
   "outputs": [],
   "source": [
    "### !Attention, une fois le readlines effectué, on est la fin du fichier! Pour revenir au debut on peut refaire un open\n",
    "with open(\"toto.txt\") as f:\n",
    "    val = f.readlines()\n",
    "    print(val[1]) ## affiche la deuxieme ligne STP "
   ]
  },
  {
   "cell_type": "code",
   "execution_count": null,
   "metadata": {
    "collapsed": false
   },
   "outputs": [],
   "source": [
    "### ou bien faire \n",
    "f.seek(0)\n",
    "\n"
   ]
  },
  {
   "cell_type": "markdown",
   "metadata": {},
   "source": [
    "la segmentation du fichier par caractere n'est pas tres interessante pour un fichier texte \n",
    "(ca peut l'etre pour un fichier binaire)\n",
    "\n",
    "En revanche la segmentation par mots (i.e. groupe de carateres separés par des espaces) est intéressante"
   ]
  },
  {
   "cell_type": "code",
   "execution_count": null,
   "metadata": {
    "collapsed": false
   },
   "outputs": [],
   "source": [
    "with open(\"toto.txt\") as f:\n",
    "    for line in f.readlines():\n",
    "        print (line.split(\" \"))"
   ]
  },
  {
   "cell_type": "markdown",
   "metadata": {},
   "source": [
    "on a chaque mot segmente dans une liste de chaine de caractere"
   ]
  },
  {
   "cell_type": "code",
   "execution_count": null,
   "metadata": {
    "collapsed": false
   },
   "outputs": [],
   "source": [
    "## pour eviter d'avoir le retour a la ligne '\\n' on peut utiliser la commande strip() sur la ligne\n",
    "with open(\"toto.txt\") as f:\n",
    "    for line in f.readlines():\n",
    "        line = line.strip()\n",
    "        print(line)\n",
    "        if 'toto' in line.split(\" \"):\n",
    "            break ### stop si on trouve 'toto' dans la ligne\n",
    "            \n"
   ]
  },
  {
   "cell_type": "code",
   "execution_count": null,
   "metadata": {
    "collapsed": false
   },
   "outputs": [],
   "source": [
    "### on peut aussi boucler sur la liste apres .split\n",
    "\n",
    "list_mots_sans_te = []\n",
    "with open(\"toto.txt\") as f:\n",
    "    for line in f.readlines():\n",
    "        for word in line.strip().split(\" \"):\n",
    "            \n",
    "            if word.endswith(\"te\"):                \n",
    "                print (\"found fic\") ### stop si le mot commence par fic\n",
    "                \n",
    "            else:\n",
    "                list_mots_sans_te.append(word)\n",
    "print (list_mots_sans_te)\n",
    "\n",
    "                "
   ]
  },
  {
   "cell_type": "code",
   "execution_count": null,
   "metadata": {
    "collapsed": false
   },
   "outputs": [],
   "source": [
    "### Encore plus court (facultatif, si list comrehension a été vu...)\n",
    "with open(\"toto.txt\") as f :\n",
    "    list_mots_sans_te = [word for line in f.readlines() for word in line.strip().split(\" \") if not word.endswith(\"te\")]\n",
    "print(list_mots_sans_te)"
   ]
  },
  {
   "cell_type": "markdown",
   "metadata": {},
   "source": [
    "### Exercice: write, write append\n",
    "\n",
    "A) write  et \"w\"\n",
    "\n",
    "    A1) Ouvrir un fichier en mode write, \n",
    "\n",
    "    A2) Ecrire dans ce fichier:\n",
    "    \n",
    "\"Ceci est la premiere ligne ajoutee\"\n",
    "\n",
    "    A3) Fermer le fichier\n",
    "\n",
    "    A4) Relire le contenu du fichier\n",
    "    \n",
    "B) with, write et \"w\"\n",
    "\n",
    "    B1) Ouvrir le fichier en mode write avec with\n",
    "\n",
    "    B2) Ecrire dans le fichier \n",
    "    \n",
    "\"Ceci est la deuxieme ligne ajoutee\"\n",
    "\n",
    "    B3) Relire le contenu du fichier\n",
    "\n",
    "C) with, write et \"a\"\n",
    "\n",
    "    C1) Ouvrir le fichier en mode append avec with\n",
    "    \n",
    "    C2) Ecrire dans le fichier\n",
    "    \n",
    "\"Ceci est la deuxieme ligne ajoutee\"\n",
    "\n",
    "    C3) Relire le contenu du fichier\n",
    "    "
   ]
  },
  {
   "cell_type": "markdown",
   "metadata": {},
   "source": [
    "# Lecture de données"
   ]
  },
  {
   "cell_type": "markdown",
   "metadata": {},
   "source": [
    "## \"A l'ancienne\""
   ]
  },
  {
   "cell_type": "code",
   "execution_count": null,
   "metadata": {
    "collapsed": false
   },
   "outputs": [],
   "source": [
    "with open('Coords.txt', 'r') as f:\n",
    "    \n",
    "    tab = []\n",
    "    for line in f.readlines():\n",
    "        \n",
    "        val = line.strip().split('\\t')\n",
    "        \n",
    "        val = list(map(int,val)) ### string to integer\n",
    "        print (val)\n",
    "        \n",
    "        tab.append(val)\n",
    "        \n",
    "    data = np.array(tab)\n",
    "    \n",
    "    print (data.shape)\n",
    "    "
   ]
  },
  {
   "cell_type": "markdown",
   "metadata": {},
   "source": [
    "## csv"
   ]
  },
  {
   "cell_type": "code",
   "execution_count": null,
   "metadata": {
    "collapsed": false
   },
   "outputs": [],
   "source": [
    "import csv\n",
    "\n",
    "with open('Coords.txt', 'r') as f:\n",
    "    reader = csv.reader(f)\n",
    "    print (reader)\n",
    "    for row in reader:\n",
    "        print (row)\n",
    "\n"
   ]
  },
  {
   "cell_type": "code",
   "execution_count": null,
   "metadata": {
    "collapsed": false
   },
   "outputs": [],
   "source": [
    "### par default, \n",
    "with open('Coords.txt', 'r') as f:\n",
    "    reader = csv.reader(f,delimiter = '\\t')\n",
    "    print (reader)\n",
    "    \n",
    "    list_vals = []\n",
    "    \n",
    "    for row in reader:\n",
    "        list_vals.append(list(map(int,row)))\n",
    "    print(list_vals)\n",
    "    \n",
    "    data= np.array(list_vals)\n",
    "    print(data)\n",
    "    \n",
    "    \n"
   ]
  },
  {
   "cell_type": "markdown",
   "metadata": {
    "collapsed": true
   },
   "source": [
    "### Exercice lecture string/bytes\n",
    "\n",
    "Faire un exo sur ouvrir avec rb (Binary), difference avec r (encoding UTF8)\n",
    "\n",
    "\n",
    "\n",
    "\n"
   ]
  },
  {
   "cell_type": "markdown",
   "metadata": {},
   "source": [
    "En 2.7, les chaînes sont par défaut des arrays d’octets, et il faut les décoder pour obtenir de l’unicode.\n",
    "En 3, les chaînes sont par défaut de type ‘unicode’, et il faut les encoder pour obtenir de un array d’octets.\n",
    "\n"
   ]
  },
  {
   "cell_type": "code",
   "execution_count": 4,
   "metadata": {
    "collapsed": false
   },
   "outputs": [
    {
     "name": "stdout",
     "output_type": "stream",
     "text": [
      "b'Ceci est une chaine de caractere'\n"
     ]
    },
    {
     "ename": "NameError",
     "evalue": "name '__version__' is not defined",
     "output_type": "error",
     "traceback": [
      "\u001b[0;31m---------------------------------------------------------------------------\u001b[0m",
      "\u001b[0;31mNameError\u001b[0m                                 Traceback (most recent call last)",
      "\u001b[0;32m<ipython-input-4-4d8c8292ed3b>\u001b[0m in \u001b[0;36m<module>\u001b[0;34m()\u001b[0m\n\u001b[1;32m      3\u001b[0m \u001b[0mprint\u001b[0m \u001b[0;34m(\u001b[0m\u001b[0mchaine\u001b[0m\u001b[0;34m)\u001b[0m\u001b[0;34m\u001b[0m\u001b[0m\n\u001b[1;32m      4\u001b[0m \u001b[0;34m\u001b[0m\u001b[0m\n\u001b[0;32m----> 5\u001b[0;31m \u001b[0mprint\u001b[0m\u001b[0;34m(\u001b[0m\u001b[0m__version__\u001b[0m\u001b[0;34m)\u001b[0m\u001b[0;34m\u001b[0m\u001b[0m\n\u001b[0m",
      "\u001b[0;31mNameError\u001b[0m: name '__version__' is not defined"
     ]
    }
   ],
   "source": [
    "chaine = b\"Ceci est une chaine de caractere\"\n",
    "\n",
    "print (chaine)\n",
    "\n",
    "print(__version__)\n"
   ]
  },
  {
   "cell_type": "markdown",
   "metadata": {},
   "source": [
    "## Sauvegarde et lecture avec numpy\n",
    "\n",
    "### format texte\n"
   ]
  },
  {
   "cell_type": "markdown",
   "metadata": {},
   "source": [
    "## loadtxt "
   ]
  },
  {
   "cell_type": "code",
   "execution_count": 13,
   "metadata": {
    "collapsed": false
   },
   "outputs": [
    {
     "name": "stdout",
     "output_type": "stream",
     "text": [
      "[[ -12.   56.    4.]\n",
      " [   6.   50.   12.]\n",
      " [   8.   36.    2.]\n",
      " [  24.   24.  -18.]\n",
      " [ -12.   22.   28.]\n",
      " [ -12.   22.   26.]\n",
      " [ -32.   20.  -18.]\n",
      " [ -28.   16.   32.]\n",
      " [ -48.   14.    8.]\n",
      " [ -10.   10.   44.]\n",
      " [ -34.    8.   38.]\n",
      " [   4.    6.   50.]\n",
      " [   4.    6.   50.]\n",
      " [  10.    4.   74.]\n",
      " [  -2.    4.   44.]\n",
      " [  24.    4.  -10.]\n",
      " [  24.    4.  -16.]\n",
      " [  40.    2.   62.]\n",
      " [ -54.    2.   38.]\n",
      " [ -26.   -4.   70.]\n",
      " [  18.   -4.  -10.]\n",
      " [  58.   -4.  -14.]\n",
      " [  56.   -4.  -36.]\n",
      " [  58.   -6.  -24.]\n",
      " [ -14.  -10.   32.]\n",
      " [ -44.  -12.   60.]\n",
      " [  32.  -12.  -18.]\n",
      " [ -44.  -14.   34.]\n",
      " [  10.  -14.  -18.]\n",
      " [  44.  -16.  -28.]\n",
      " [  -6.  -24.  -14.]\n",
      " [  -6.  -24.  -16.]\n",
      " [ -44.  -26.   58.]\n",
      " [ -50.  -26.   58.]\n",
      " [  30.  -28.  -12.]\n",
      " [ -16.  -30.   30.]\n",
      " [ -60.  -30.   16.]\n",
      " [ -50.  -32.   56.]\n",
      " [ -36.  -34.   10.]\n",
      " [ -38.  -36.   52.]\n",
      " [  16.  -36.   30.]\n",
      " [  14.  -36.  -12.]\n",
      " [ -42.  -38.  -10.]\n",
      " [ -40.  -40.   42.]\n",
      " [ -40.  -40.   40.]\n",
      " [  52.  -40.   30.]\n",
      " [ -36.  -42.   50.]\n",
      " [  50.  -42.   10.]\n",
      " [  32.  -44.   44.]\n",
      " [  52.  -50.   26.]\n",
      " [ -56.  -52.   26.]\n",
      " [ -52.  -52.    4.]\n",
      " [ -30.  -54.   42.]\n",
      " [ -14.  -58.   20.]\n",
      " [ -14.  -60.   40.]\n",
      " [ -16.  -60.   20.]\n",
      " [  34.  -62.   42.]\n",
      " [ -38.  -62.   22.]\n",
      " [  44.  -64.   -4.]\n",
      " [  26.  -66.   24.]\n",
      " [ -16.  -68.   -4.]\n",
      " [ -38.  -70.    2.]\n",
      " [  18.  -84.  -10.]\n",
      " [  10.  -90.    0.]\n",
      " [   6.  -92.   16.]\n",
      " [   6.  -92.    4.]\n",
      " [ -20.  -92.   -4.]\n",
      " [   2.  -96.    6.]\n",
      " [  14. -100.    6.]\n",
      " [  14. -100.    6.]]\n"
     ]
    }
   ],
   "source": [
    "import numpy as np\n",
    "\n",
    "data = np.loadtxt(\"Coords.txt\") \n",
    "print (data)\n",
    "\n"
   ]
  },
  {
   "cell_type": "markdown",
   "metadata": {},
   "source": [
    "### par default, delimiter = \"any whitespace\", c.a.d. un ou plusieurs espace et/ou tabulations\n",
    "\n",
    "!!! on ne specifie pas le format avec loadmat. Il a y de fortes chances que l'on ait a le modifier avec:\n",
    "np.array(data,dtype = 'int') par exemple"
   ]
  },
  {
   "cell_type": "code",
   "execution_count": 15,
   "metadata": {
    "collapsed": false
   },
   "outputs": [
    {
     "name": "stdout",
     "output_type": "stream",
     "text": [
      "[[ -12   56    4]\n",
      " [   6   50   12]\n",
      " [   8   36    2]\n",
      " [  24   24  -18]\n",
      " [ -12   22   28]\n",
      " [ -12   22   26]\n",
      " [ -32   20  -18]\n",
      " [ -28   16   32]\n",
      " [ -48   14    8]\n",
      " [ -10   10   44]\n",
      " [ -34    8   38]\n",
      " [   4    6   50]\n",
      " [   4    6   50]\n",
      " [  10    4   74]\n",
      " [  -2    4   44]\n",
      " [  24    4  -10]\n",
      " [  24    4  -16]\n",
      " [  40    2   62]\n",
      " [ -54    2   38]\n",
      " [ -26   -4   70]\n",
      " [  18   -4  -10]\n",
      " [  58   -4  -14]\n",
      " [  56   -4  -36]\n",
      " [  58   -6  -24]\n",
      " [ -14  -10   32]\n",
      " [ -44  -12   60]\n",
      " [  32  -12  -18]\n",
      " [ -44  -14   34]\n",
      " [  10  -14  -18]\n",
      " [  44  -16  -28]\n",
      " [  -6  -24  -14]\n",
      " [  -6  -24  -16]\n",
      " [ -44  -26   58]\n",
      " [ -50  -26   58]\n",
      " [  30  -28  -12]\n",
      " [ -16  -30   30]\n",
      " [ -60  -30   16]\n",
      " [ -50  -32   56]\n",
      " [ -36  -34   10]\n",
      " [ -38  -36   52]\n",
      " [  16  -36   30]\n",
      " [  14  -36  -12]\n",
      " [ -42  -38  -10]\n",
      " [ -40  -40   42]\n",
      " [ -40  -40   40]\n",
      " [  52  -40   30]\n",
      " [ -36  -42   50]\n",
      " [  50  -42   10]\n",
      " [  32  -44   44]\n",
      " [  52  -50   26]\n",
      " [ -56  -52   26]\n",
      " [ -52  -52    4]\n",
      " [ -30  -54   42]\n",
      " [ -14  -58   20]\n",
      " [ -14  -60   40]\n",
      " [ -16  -60   20]\n",
      " [  34  -62   42]\n",
      " [ -38  -62   22]\n",
      " [  44  -64   -4]\n",
      " [  26  -66   24]\n",
      " [ -16  -68   -4]\n",
      " [ -38  -70    2]\n",
      " [  18  -84  -10]\n",
      " [  10  -90    0]\n",
      " [   6  -92   16]\n",
      " [   6  -92    4]\n",
      " [ -20  -92   -4]\n",
      " [   2  -96    6]\n",
      " [  14 -100    6]\n",
      " [  14 -100    6]]\n"
     ]
    }
   ],
   "source": [
    "data_int = np.array( np.loadtxt(\"Coords.txt\") ,dtype = 'int') ### attention quand meme au type 'int'; pour les grandes valeurs, il vaut mieux preferer int64\n",
    "print(data_int)"
   ]
  },
  {
   "cell_type": "markdown",
   "metadata": {},
   "source": [
    "## savetxt"
   ]
  },
  {
   "cell_type": "code",
   "execution_count": null,
   "metadata": {
    "collapsed": true
   },
   "outputs": [],
   "source": []
  },
  {
   "cell_type": "code",
   "execution_count": 9,
   "metadata": {
    "collapsed": false
   },
   "outputs": [
    {
     "name": "stdout",
     "output_type": "stream",
     "text": [
      "[[ 0.  0.  0. ...,  0.  0.  0.]\n",
      " [ 0.  0.  0. ...,  0.  0.  0.]\n",
      " [ 0.  0.  0. ...,  0.  0.  0.]\n",
      " ..., \n",
      " [ 0.  0.  0. ...,  0.  0.  0.]\n",
      " [ 0.  0.  0. ...,  0.  0.  0.]\n",
      " [ 0.  0.  0. ...,  0.  0.  0.]]\n"
     ]
    }
   ],
   "source": [
    "bigmat = np.zeros(shape = (1000,1000), dtype = \"float64\")\n",
    "\n",
    "print(bigmat)"
   ]
  },
  {
   "cell_type": "markdown",
   "metadata": {},
   "source": [
    "\n",
    "numpy.savetxt\n",
    "\n",
    "!!!  Attention à l'ordre: fichier et ensuite ndarray\n",
    "\n",
    "fmt est le format d'ecriture: %d pour un entier, %f pour un float (nombre a virgule), %s pour une chaine de carateres"
   ]
  },
  {
   "cell_type": "code",
   "execution_count": 11,
   "metadata": {
    "collapsed": true
   },
   "outputs": [],
   "source": [
    "bigmat_f = np.array(bigmat,dtype = 'float')\n",
    "\n",
    "filename3 =\"bigmat_f.txt\"\n",
    "\n",
    "np.savetxt(filename3,bigmat_f,fmt = \"%f\")\n",
    "\n",
    "### bigmat_f.txt 9.0Mo"
   ]
  },
  {
   "cell_type": "code",
   "execution_count": 12,
   "metadata": {
    "collapsed": false
   },
   "outputs": [],
   "source": [
    "\n",
    "##on peut aussi sauver le tableau d'entier sous la forme de nombres a virgule\n",
    "filename = \"mat.txt\"\n",
    "\n",
    "np.savetxt(filename,bigmat_f, fmt = \"%d\")"
   ]
  },
  {
   "cell_type": "markdown",
   "metadata": {},
   "source": [
    "## format .npy, load et save"
   ]
  },
  {
   "cell_type": "markdown",
   "metadata": {},
   "source": [
    "numpy dispose directement d'un format compressé, non lisible dans un editeur de texte, mais permettant d'etre transmis et lu facilement sur un autre systeme.\n",
    "\n",
    "L' extension de ces fichiers compressé est \".npy\"\n"
   ]
  },
  {
   "cell_type": "code",
   "execution_count": null,
   "metadata": {
    "collapsed": true
   },
   "outputs": [],
   "source": [
    "### save\n",
    "\n",
    "filename3 =\"bigmat_f.npy\"\n",
    "\n",
    "np.save(filename3,bigmat_f)\n",
    "\n",
    "### bigmat_f.npy 8.0Mo"
   ]
  },
  {
   "cell_type": "code",
   "execution_count": null,
   "metadata": {
    "collapsed": true
   },
   "outputs": [],
   "source": [
    "### relecture avec load\n",
    "bigmat_f = np.load(filename3)\n",
    "\n",
    "print(bigmat_f)"
   ]
  },
  {
   "cell_type": "markdown",
   "metadata": {},
   "source": [
    "!!! là encore, on ne spécifie pas le type de données en lecture, donc il y a de fortes chances que l'on ait à forcer le dtype du tableau"
   ]
  },
  {
   "cell_type": "code",
   "execution_count": null,
   "metadata": {
    "collapsed": true
   },
   "outputs": [],
   "source": [
    "bigmat = np.array(bigmat_f,dtype = 'int')\n",
    "\n",
    "print(bigmat)"
   ]
  },
  {
   "cell_type": "markdown",
   "metadata": {},
   "source": [
    "# Exercice 6.3\n",
    "genere  10 fichiers avec du bruit + une yoyenne differente pour chaque fichier\n",
    "par exe, file_0 -> moyenne = 0.0\n",
    "    file_1 -> moyenne = 1.0\n",
    "    etc.\n",
    "    bruit comme vous voulez...\n",
    "    \n",
    "\n",
    "relire les data a partir des noms de fichiers puis moyenne sd (concat) -> n'importe quoi\n",
    "\n",
    "relire les data a partir des noms de fichiers puis (blanchir) zscore = (- mean) / std\n"
   ]
  },
  {
   "cell_type": "markdown",
   "metadata": {},
   "source": [
    "# Solution 6.3"
   ]
  },
  {
   "cell_type": "code",
   "execution_count": 8,
   "metadata": {
    "collapsed": false
   },
   "outputs": [
    {
     "name": "stdout",
     "output_type": "stream",
     "text": [
      "[ 0.83101354  0.44383791  0.88554193  0.76148955  0.05874098  0.94774817\n",
      "  0.12140198  0.17139277  0.70260809  0.3841336   0.4379498   0.01722026\n",
      "  0.50774074  0.21114554  0.1196867   0.2928624   0.50751007  0.22222773\n",
      "  0.78851674  0.52463808]\n",
      "[ 1.58124097  1.86898698  1.81545508  1.55605927  1.247258    1.89724169\n",
      "  1.21264092  1.1432618   1.90384261  1.43511192  1.63218654  1.36876218\n",
      "  1.81174769  1.59574796  1.49309999  1.97736225  1.1226936   1.59728102\n",
      "  1.24405136  1.71356702]\n",
      "[ 2.33130205  2.91325082  2.00244972  2.82532595  2.14297143  2.54345039\n",
      "  2.48436023  2.91747313  2.48029914  2.36453085  2.01047764  2.53242669\n",
      "  2.83761906  2.2530787   2.04833901  2.9758205   2.96438826  2.88592074\n",
      "  2.53200339  2.7415967 ]\n",
      "[ 3.33326315  3.42240146  3.35259139  3.15815495  3.18038471  3.82949729\n",
      "  3.00629352  3.46415089  3.99982158  3.09727148  3.87341467  3.22671993\n",
      "  3.30185432  3.33458287  3.6079847   3.07982949  3.45467523  3.77589172\n",
      "  3.38441805  3.6169709 ]\n",
      "[ 4.43034294  4.45075856  4.66070733  4.11862788  4.02689973  4.6643996\n",
      "  4.76052944  4.63411507  4.00906649  4.58354684  4.63458765  4.47519565\n",
      "  4.52006434  4.05412179  4.34419241  4.87365127  4.97899352  4.30076644\n",
      "  4.07682527  4.45465441]\n",
      "[ 5.4054843   5.08350226  5.46588473  5.69219312  5.96981227  5.63195733\n",
      "  5.87232179  5.89739821  5.62143356  5.4212006   5.13203163  5.47480125\n",
      "  5.89593311  5.91088422  5.50859476  5.68802447  5.53648984  5.46388554\n",
      "  5.63321309  5.31571609]\n",
      "[ 6.72580847  6.83186439  6.47715119  6.09845285  6.17993167  6.77609401\n",
      "  6.32496769  6.9172952   6.76157948  6.76143858  6.60133885  6.23401972\n",
      "  6.9935867   6.92631027  6.71393678  6.10404337  6.34028374  6.24249626\n",
      "  6.03243133  6.00358421]\n",
      "[ 7.71045242  7.60414856  7.09007139  7.63520656  7.62961569  7.01744971\n",
      "  7.9183941   7.41847063  7.34109003  7.49150655  7.68465361  7.95535033\n",
      "  7.87858937  7.08756992  7.64229223  7.70380586  7.45845935  7.35606795\n",
      "  7.18368716  7.94656192]\n",
      "[ 8.46844287  8.0238394   8.7205766   8.26068898  8.63891565  8.56195583\n",
      "  8.42990335  8.34945672  8.04636526  8.35830973  8.48972172  8.12659952\n",
      "  8.89178404  8.37265203  8.93589895  8.2779105   8.78454652  8.13964558\n",
      "  8.62798089  8.47140124]\n",
      "[ 9.86577483  9.66035163  9.45052778  9.7855369   9.34458937  9.1641571\n",
      "  9.62698852  9.20070253  9.99221266  9.48627236  9.13434364  9.1596768\n",
      "  9.64201113  9.29409342  9.58538188  9.07122566  9.77346031  9.62840949\n",
      "  9.2367931   9.7823122 ]\n",
      "(20, 10)\n",
      "[ 5.06831255  5.0302942   4.99209572  4.9891736   4.84191195  5.10339511\n",
      "  4.97578016  5.0113717   5.08583189  4.93833225  4.96307058  4.85707723\n",
      "  5.22809305  4.90401867  4.99994074  5.00445358  5.09215004  4.96125925\n",
      "  4.87399204  5.05710028]\n",
      "4.99888272895\n",
      "[ 0.23877872  0.04689201  0.00877994 -0.03141463 -0.50741394  0.3704956\n",
      " -0.06383353  0.01035979  0.30586763 -0.23554805 -0.12797781 -0.51570166\n",
      "  0.81324079 -0.32979269  0.0316772   0.02062352  0.3231217  -0.14671407\n",
      " -0.42627936  0.21483884]\n",
      "-9.15933995316e-16\n"
     ]
    }
   ],
   "source": [
    "import numpy as np\n",
    "\n",
    "for i in range(10):\n",
    "    \n",
    "    ### genere le nom du fichier \n",
    "    #filename = \"fichier\"+str(i)+\".npy\"\n",
    "    filename = \"fichier{}.npy\".format(i)\n",
    "    \n",
    "    ### genere les data offset a i + bruit\n",
    "    data = np.random.rand(20) + i\n",
    "    \n",
    "    print(data)\n",
    "    \n",
    "    ## sauve les datas au format npy\n",
    "    np.save(filename,data)\n",
    "    \n",
    "\n",
    "### load les datas\n",
    "all_data = []\n",
    "for i in range(10):\n",
    "\n",
    "    data = np.load(\"fichier{}.npy\".format(i))\n",
    "\n",
    "    all_data.append(data.reshape(-1,1))\n",
    "    \n",
    "concat_data = np.concatenate(all_data,axis = 1)\n",
    "print(concat_data.shape)\n",
    "\n",
    "### 1ere etape, fait la moyenne sur les data directement\n",
    "print(np.mean(concat_data,axis = 1))\n",
    "print(np.mean(concat_data,axis = None))\n",
    "\n",
    "\n",
    "### 2eme etape, fait la moyenne apres blanchiement (-mean / sd)\n",
    "\n",
    "##moyenne\n",
    "mean_data = np.mean(concat_data,axis = 0)\n",
    "#print(mean_data)\n",
    "\n",
    "##ecart-type\n",
    "std_data = np.std(concat_data,axis = 0)\n",
    "#print(std_data)\n",
    "\n",
    "### z-score \n",
    "z_data = (concat_data - mean_data)/ std_data\n",
    "print(np.mean(z_data,axis = 1))\n",
    "print(np.mean(z_data,axis = None))\n"
   ]
  },
  {
   "cell_type": "code",
   "execution_count": null,
   "metadata": {
    "collapsed": true
   },
   "outputs": [],
   "source": []
  }
 ],
 "metadata": {
  "kernelspec": {
   "display_name": "Python 3",
   "language": "python",
   "name": "python3"
  },
  "language_info": {
   "codemirror_mode": {
    "name": "ipython",
    "version": 3
   },
   "file_extension": ".py",
   "mimetype": "text/x-python",
   "name": "python",
   "nbconvert_exporter": "python",
   "pygments_lexer": "ipython3",
   "version": "3.5.2"
  }
 },
 "nbformat": 4,
 "nbformat_minor": 2
}
