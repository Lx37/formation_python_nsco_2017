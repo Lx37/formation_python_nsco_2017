{
 "cells": [
  {
   "cell_type": "markdown",
   "metadata": {
    "slideshow": {
     "slide_type": "slide"
    }
   },
   "source": [
    "___\n",
    "## Le module os (Operating System)\n",
    "___\n",
    "\n",
    "\n",
    "### 1 - Prendre de l'information sur le sysème de fichiers\n",
    "\n",
    "+ import os\n",
    "\n",
    "\n",
    "+ os.uname() : infos système\n",
    "\n",
    "\n",
    "+ os.getcwd() : pour obtenir le répertoire en cours\n",
    "\n",
    "\n",
    "+ os.path.abspath(path) : retourne une version absolue du chemin path\n",
    "\n",
    "\n",
    "+ os.path.relpath(path[, start]) : retounre une version relative du chemin path. Par défaut, par rapport au working dir, sinon : spécifier un argument start qui sera le répertoire de base\n",
    "\n",
    "\n",
    "### 2 - Faire des actions sur le système de fichiers\n",
    "\n",
    "+ os.chdir(foldername)  : va dans le répertoire spécifié\n",
    "\n",
    "\n",
    "+ os.mkdir(’mydir’) : crée le répertoire mydir\n",
    "\n",
    "\n",
    "+ os.rename(oldname, newname) : renomme oldname en newname\n",
    "\n",
    "\n",
    "+ os.remove(filename) : efface le fichier filename\n",
    "\n",
    "\n",
    "### 3 - Utilitaires\n",
    "\n",
    "+ os.path.join(morceau1, morceau2) : colle deux morceaux de chemin ensemble  en utilisant les caractères adaptés au système\n",
    "\n",
    "\n",
    "+ os.path.expanduser(\"~\") : retourne le chemin vers le répertoire \"Home\" de l'utilisateur sur la machine\n",
    "\n",
    "\n",
    "+ os.path.split(racine/nomfichier_ou_rep) : permet de séparer la dernière branche de la racine, résultat sous forme de tuple\n",
    "    *ex : (filepath, filename) = os.path.split(\"/Users/admin/Desktop\") \n",
    "    *filename: \"Desktop\"\n",
    "\n",
    "\n",
    "+ os.path.splitext(nomfichier.extension) : sépare le nom de l'extension. Résultat sous forme de tuple\n",
    "\n",
    "\n",
    "+ os.listdir(path) :  prend un nom de chemin et retourne une liste du contenu du répertoire.\n",
    "\n",
    "\n",
    "+ os.path.isfile : pour séparer les fichiers des répertoires. (os.path.isdir existe aussi). isfile prend un nom de chemin et :\n",
    "     *retourne 1 / True si le chemin représente un fichier\n",
    "     *0 / False dans le cas contraire. \n",
    "\n",
    "\n",
    "+ os.walk(top, topdown=True) : à parir de top (repertoire racine), parcourt l'arborescence en descendant si topdown=True, en montant sinon, et renvoie un tuple : (dirpath, dirnames, filenames) qui contient tous les répertoires dirnames rencontrés avec les fichiers filenames qui s'y trouvent\n",
    "\n",
    ">for dossier, sous_dossiers, fichiers in os.walk('/tmp/test'):\n",
    "\n",
    ">        for fichier in fichiers:\n",
    "\n",
    ">            print(os.path.join(dossier, fichier))"
   ]
  },
  {
   "cell_type": "markdown",
   "metadata": {},
   "source": [
    "#### Exercice 1 - Navigation\n",
    "\n",
    "Mettez vous dans votre répertoire \"home\"\n",
    "créez une variable contenant le chemin vers votre bureau\n",
    "Sans utilisez expanduser une nouvelle fois, ni chdir, remontez d'un niveau, puis rendez-vous dans vos Documents\n",
    "faites afficher le chemin vers vos documents\n",
    "faites afficher le chemin vers le répertoire parent de Documents"
   ]
  },
  {
   "cell_type": "code",
   "execution_count": 17,
   "metadata": {
    "collapsed": false
   },
   "outputs": [
    {
     "data": {
      "text/plain": [
       "'/Users/admin'"
      ]
     },
     "execution_count": 17,
     "metadata": {},
     "output_type": "execute_result"
    }
   ],
   "source": [
    "import os\n",
    "home=os.path.expanduser(\"~\")\n",
    "desk=os.path.join(home,\"Desktop\")\n",
    "home2=os.path.split(desk)\n",
    "docs=os.path.join(home2[0],\"Documents\")\n",
    "l=os.path.split(docs)\n",
    "\n",
    "l[0]"
   ]
  },
  {
   "cell_type": "markdown",
   "metadata": {},
   "source": [
    "#### Exercice 2 - liste de répertoires\n",
    "\n",
    "Placez vous dans le répertoire Home\n",
    "faites afficher la liste de tous les répertoires\n",
    "ensuite : tous les répertoires qui ne commencent pas pas \".\" (sous mac), \n",
    "ou tous ceux qui commencent par une lettre de votre choix\n"
   ]
  },
  {
   "cell_type": "code",
   "execution_count": 40,
   "metadata": {
    "collapsed": false
   },
   "outputs": [
    {
     "name": "stdout",
     "output_type": "stream",
     "text": [
      "['anaconda', 'Applications', 'Desktop', 'Documents', 'Downloads', 'Dropbox', 'GitHub', 'Google Drive', 'Incompatible Software', 'Library', 'Movies', 'Music', 'nix', 'Pictures', 'Prezi', 'Projets-QCM', 'Public', 'pupil_capture_settings', 'pupil_player_settings', 'Sites', 'TRUCS', 'TVB', 'wekafiles']\n"
     ]
    }
   ],
   "source": [
    "import os\n",
    "home=os.path.expanduser(\"~\")\n",
    "files=[el for el in l if ((os.path.isdir(os.path.join(home,el))) & (el[0]!='.'))]\n",
    "print(files)\n"
   ]
  },
  {
   "cell_type": "markdown",
   "metadata": {
    "collapsed": true
   },
   "source": [
    "#### Exercice 3 - Fichiers et extensions\n",
    "\n",
    "Faites afficher la liste de tous les fichiers \n",
    "ayant pour extensions .doc ou .docx de votre répertoire documents"
   ]
  },
  {
   "cell_type": "code",
   "execution_count": 38,
   "metadata": {
    "collapsed": false
   },
   "outputs": [
    {
     "name": "stdout",
     "output_type": "stream",
     "text": [
      "['Outils pour la modélisation.docx', '~$tils pour la modélisation.docx']\n"
     ]
    }
   ],
   "source": [
    "import os\n",
    "home=os.path.expanduser(\"~\")\n",
    "docs=os.path.join(home,\"Documents\")\n",
    "mesdocumentsdoc=[el for el in os.listdir(docs) \n",
    "                 if ((os.path.splitext(el)[1]==\".doc\")|(os.path.splitext(el)[1]==\".docx\"))]\n",
    "print(mesdocumentsdoc)"
   ]
  },
  {
   "cell_type": "markdown",
   "metadata": {
    "collapsed": false
   },
   "source": [
    "#### Exercice 4 - Walk\n",
    "\n",
    "Sans changer le cwd, parcourez le répertoire Desktop (avec sous-répertoires) et faites afficher :\n",
    "\n",
    "- la liste des sous-répertoires contenus sur le Desktop\n",
    "- la liste de tous les fichiers (y compris ceux qui sont dans les sous-répertoires) qui contiennent au moins un \"C\" majuscule\n",
    "\n"
   ]
  },
  {
   "cell_type": "code",
   "execution_count": 1,
   "metadata": {
    "collapsed": false,
    "scrolled": false
   },
   "outputs": [
    {
     "name": "stdout",
     "output_type": "stream",
     "text": [
      "EMC_HCERES_Février_2015-COSy.ppt\n",
      "THE NEUROCOGNITIVE BASES OF CUMULATIVE CULTURAL EVOLUTION.docx\n"
     ]
    }
   ],
   "source": [
    "import os\n",
    "home=os.path.expanduser(\"~\")\n",
    "desktop=os.path.join(home,\"Desktop\")\n",
    "for rep, sousrep,files in os.walk(desktop, topdown=True):\n",
    "    for el in files:\n",
    "            if el.count(\"C\")>=3 :\n",
    "                print(el)"
   ]
  },
  {
   "cell_type": "markdown",
   "metadata": {},
   "source": [
    "___\n",
    "## Le module glob\n",
    "___\n",
    "\n",
    "\n",
    "### 0 - glob \n",
    "+ os.listdir : prend simplement un chemin de répertoire et retourne la liste de tous les fichiers et répertoires qu'il contient. On peut ensuite filtrer par compréhension de listes mais ce n'est pas toujours simple\n",
    "    \n",
    "    \n",
    "    > list_RT_files=[el for el in os.listdir(os.getcwd()) if (os.path.isfile(el) & el.count(\"a\"))]\n",
    "    \n",
    "    > print(list_RT_files)\n",
    "\n",
    "+ Le module glob est beaucoup plus simple pour accéder à certains fichiers. Il prend un joker et retourne le chemin complet de tous les fichiers et répertoires qui lui correspondent. \n",
    "\n",
    "### 1 - glob et jokers\n",
    "+ Joker : \n",
    "    * caractère * = toutes les chaines\n",
    "    * s* = toutes celles qui commencent par \"s\"\n",
    "    * *3 = toutes celles qui finissent par 3\n",
    "    * [1-4] = 1, 2 3 ou 4\n",
    "    * [0123456789] = [0-9]\n",
    "    * [ert] = e, r , ou t\n",
    "    * ? : un seul caractère\n",
    "    \n",
    "+ for name in glob.glob('dir/file?.txt'):\n",
    "\n",
    "+ plot*[1-4]*.dat : plotfoo2er.dat, plot1.dat mais pas plotFOoFoo8.dat, ni ploploplo2.dat\n",
    "\n",
    "\n",
    "+ Et chemin relatif, Unix-style : \n",
    "    * . = ici\n",
    "    * .. = au dessus\n",
    "    * caractère * : monrep, monfichier, monfichier.extension\n",
    "    * *.* : monfichier.extension"
   ]
  },
  {
   "cell_type": "markdown",
   "metadata": {},
   "source": [
    "### Exercice 1 - liste de mp3\n",
    "\n",
    "Vous avez surement des mp3 sur votre ordinateur, ne mentez pas.\n",
    "\n",
    "Si vous êtes ordonnés ils sont peut-être rangés dans des répertoires correspondant aux albums.\n",
    "\n",
    "Faites afficher \"proprement\", à l'aide d'un seul glob la liste de tous vos mp3 contenus dans votre répertoire Music, sans passer par les chemins absolus\n",
    "\n",
    "Faites ensuite afficher tous les morceaux :\n",
    "+ contenant un i ou un y ou un ï\n",
    "+ tous ceux contenant un chiffre de 1 à 9\n",
    "+ tous ceux avec un chiffre puis un blanc pluis une parenthèse\n",
    "etc..."
   ]
  },
  {
   "cell_type": "code",
   "execution_count": null,
   "metadata": {
    "collapsed": true
   },
   "outputs": [],
   "source": [
    "import glob\n",
    "import os\n",
    "\n",
    "print(os.getcwd())\n",
    "\n",
    "print(\"liste de tous les mp3:\")\n",
    "\n",
    "li=glob.glob(\"../Music/*/*.mp3\")\n",
    "for el in li:\n",
    "    print(el)\n",
    "print(\"\\n\\n\")\n",
    "\n",
    "print(\"liste de tous les mp3 avec un i,y ou ï:\")\n",
    "li=glob.glob(\"../Music/*/*[iyï]*.mp3\")\n",
    "for el in li:\n",
    "    print(el)\n",
    "    \n",
    "print(\"\\n\\n\")\n",
    "print(\"liste de tous les mp3 avec un #:\")\n",
    "li=glob.glob(\"../Music/*/*#*.mp3\")\n",
    "for el in li:\n",
    "    print(el)\n",
    "\n",
    "print(\"\\n\\n\")\n",
    "print(\"liste de tous les mp3 avec un chiffre puis un blanc puis une parenthèse:\")\n",
    "li=glob.glob(\"../Music/*/*[1-9] *(*.mp3\")\n",
    "for el in li:\n",
    "    print(el)\n",
    "\n"
   ]
  },
  {
   "cell_type": "markdown",
   "metadata": {},
   "source": [
    "### Exercice 2 - Visages\n",
    "\n",
    "Dans l'archive visages_pour_ED.zip (répertoire data) vous retrouvez des visages d'hommes et de femmes exprimant une émotion (base NIMSTIM).\n",
    "\n",
    "\n",
    "Faites une liste avec les noms des fichiers correspondant :\n",
    "\n",
    "+ aux femmes\n",
    "+ aux gens en colère (AN - ATTENTION : an aussi)\n",
    "+ aux hommes en colère extrême (extension O)\n",
    "+ aux hommes extremement contents (X) et aux femmes extrêmement tristes (SA, extension C)\n",
    "\n",
    "Renommez toutes les extensions qui ne sont pas \".BMP\" en \".BMP\"\n"
   ]
  },
  {
   "cell_type": "code",
   "execution_count": null,
   "metadata": {
    "collapsed": true
   },
   "outputs": [],
   "source": []
  },
  {
   "cell_type": "code",
   "execution_count": null,
   "metadata": {
    "collapsed": true
   },
   "outputs": [],
   "source": []
  }
 ],
 "metadata": {
  "kernelspec": {
   "display_name": "Python 3",
   "language": "python",
   "name": "python3"
  },
  "language_info": {
   "codemirror_mode": {
    "name": "ipython",
    "version": 3
   },
   "file_extension": ".py",
   "mimetype": "text/x-python",
   "name": "python",
   "nbconvert_exporter": "python",
   "pygments_lexer": "ipython3",
   "version": "3.4.5"
  }
 },
 "nbformat": 4,
 "nbformat_minor": 2
}
