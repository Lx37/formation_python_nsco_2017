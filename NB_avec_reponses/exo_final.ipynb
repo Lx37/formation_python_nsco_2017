{
 "cells": [
  {
   "cell_type": "markdown",
   "metadata": {},
   "source": [
    "___\n",
    "## EXERCICE FINAL\n",
    "___\n",
    "\n",
    "### 1 – Introduction\n",
    "\n",
    "Cet exercice a pour objectif de vous amener à traiter des données issues d’une expérience en Sciences Cognitives à l’aide d’un script Python. \n",
    "\n",
    "Cette expérience cherche à voir s’il existe un biais lié au genre dans notre perception du corps humain. Pour résumer, nous allons chercher à voir si les femmes ont tendance à juger les corps féminins plus gros que les corps masculins, et nous faisons également l’hypothèse que cette tendance serait uniquement féminine. \n",
    "\n",
    "L’idée qui sous-tend ces hypothèses serait que les femmes sont exposées, à travers notamment les medias, à des « role models » très minces et à ce qui est coutume d’appeler la « dictature de la minceur ». Cette pression serait plus forte sur les femmes que sur les hommes. En clair, nous allons voir s’il existe un biais de perception lié au genre qui amènerait plus les femmes à percevoir Beyoncé « grosse » …\n",
    "\n",
    "### 2 - Psychophysique très rapide\n",
    "\n",
    "La question de la relation entre stimulus externe et perception est éminemment subjective, et de nature probabiliste. \n",
    "\n",
    "Ainsi, lorsqu’il s’agit de répondre à la question « avez-vous perçu un flash ? », à intensité lumineuse égale, deux personnes peuvent ne pas répondre de la même manière : l’une peut détecter le flash, l’autre non, et cette différence de réponse ne sera pas la même selon les intensités du flash. Idem, une même personne peut, pour deux flashes identiques, percevoir dans un cas et pas dans un autre. Toute cette relation entre stimulus et perception est le domaine de la psychophysique. \n",
    "\n",
    "Si nous étions des « détecteurs parfaits », nous aurions une réponse perceptive constante dès lors que l’intensité d’un stimulus dépasse ce que l’on appelle le « seuil perceptif ». \n",
    "\n",
    "![alt text](img/PES_figure.bmp)\n",
    "\n",
    "Le Point d’Equivalence Subjectif est le niveau d’intensité du stimulus qui déclenche 50% de détection de la part du sujet.\n",
    "\n",
    "![alt text](img/PES_figure2.bmp)\n",
    "\n",
    "Cet exercice a pour but de déterminer les PES chez les participants, homme et femme, lorsqu’ils jugent des silhouettes masculines et féminines, et de les comparer.\n",
    "\n",
    "On attend les résultats suivants (hypothèses non argumentées :-)\n",
    "\n",
    "+ Les PES des femmes sont plus bas que ceux des hommes (effet du facteur « genre du participant »)\n",
    "+ Les silhouettes féminines engendrent un PES plus bas que les silhouettes masculines (effet du facteur « type de silhouette »)\n",
    "+ L’écart silhouettes féminines / masculines est plus important chez les femmes que chez les hommes (interaction entre facteur « genre du participant » et « type de silhouette »)\n",
    "\n",
    "### 3- Traitement des données\n",
    "\n",
    "L'analyse va se dérouler en 5 étapes.\n",
    "\n",
    "Il est évident que l'on va mettre en pratique, la totalité des outils de la semaine.\n",
    "\n",
    "Voici un guide pour les étapes.\n",
    "\n",
    "Les datas se trouve dans le zip **Data_exo_final.zip** sur github.\n",
    "\n",
    "#### Etape 1: moissonage des données\n",
    "\n",
    "Conseils:\n",
    "  * Inspecter bien le zip et ses fichiers.\n",
    "  * Construire un grand DataFrame avec la totalité des données brutes. Nom du tableau = **data**\n",
    "\n",
    "Contraintes:\n",
    "  * On enlève tous le réponses dont le TR (temps de réponses) est supérieurs à 3s.\n",
    "\n",
    "Guide pour les noms de variables et colonnes:\n",
    "  * On garde les noms existant dans ls csv\n",
    "  * Il va falloir ajouter/calcluer les colonnes suivantes:\n",
    "    * Subject\n",
    "    * SubjectGender\n",
    "    * ItemGender\n",
    "    * ItemSize\n",
    "\n",
    "Pour les bons:\n",
    "  * reformater les nom des sujets avec 2 chiffres.\n",
    "\n",
    "#### Etape 2: calcul des réponses par sujet pour chaque silhouette\n",
    "\n",
    "Conseils:\n",
    "  * Construire un DataFrame intermédiaire qui contabilise le nombre de gros/mince pour chaque sujet et silouette.\n",
    "    Puis la proportion nb_gros/nb_total pour chaque.\n",
    "    Nom du tableau = **evaluations**\n",
    "\n",
    "\n",
    "\n",
    "\n",
    "\n",
    "\n",
    "#### Etape3 : Graphe des données individuelles\n",
    "\n",
    "Balladez vous chez seaborn gallery et affichez quelque chose de malins avec le DataFrame **evaluations**\n",
    "\n",
    "Par example, pour chaque sujet et silhouette un truc de ce style:\n",
    "![alt text](img/PES_figure3.bmp)\n",
    "\n",
    "Contraintes:\n",
    "  * en 4 lignes SVP.\n",
    "\n",
    "\n",
    "#### Etape 4: Fit des données individuelles par un modèle pour trouver la courbe psychometrique\n",
    "\n",
    "C'est le plus dur!!\n",
    "\n",
    "Nous allons approximer ces données réelles par une courbe psychométrique qui décrit au mieux les observations réelles. Nous allons donc faire un modèle, qui décrira la réponse théorique du sujet pour toutes les silhouettes qu’on pourra créer, hors des 9 que nous lui avons présentées.\n",
    "\n",
    "Dans les grands lignes on utilse un Modèle Linéaire Général (GLM) avec un regression binomial.\n",
    "A méditer: https://fr.wikipedia.org/wiki/R%C3%A9gression_logistique\n",
    "\n",
    "Voici le code pour le modèle d'un sujet et une silouhette:\n",
    "```python\n",
    "from statsmodels.formula.api import glm\n",
    "\n",
    "# ici df c'est le tableau pour un sujet, une solhouette\n",
    "\n",
    "# on créer une colonne **gros** qui contient 0 ou 1 (notre bonomial)\n",
    "df['gros'] = (df['Evaluation']=='gros').astype(int)\n",
    "\n",
    "# voici le model\n",
    "model = glm('gros~ItemSize', df, family=sm.families.Binomial())\n",
    "model_result = model.fit()\n",
    "print(model_result.summary())\n",
    "\n",
    "\n",
    "# Ensuite on prédit toutes les valeurs entre 0 et 10 par pas de 0.01\n",
    "x_model = pd.Series(np.arange(0,10,0.01), name='ItemSize')\n",
    "y_model = model_result.predict(x)\n",
    "\n",
    "# on peut afficher la courbe en rouge de prediction comme ici\n",
    "ax.plot(x_model, y_model, color='red')\n",
    "\n",
    "```\n",
    "\n",
    "![alt text](img/PES_figure4.bmp)\n",
    "\n",
    "\n",
    "#### Etape 5 :  déterminer le PES a partir de la courbe psychometrique\n",
    "\n",
    "Le PES est le « x_model » qui correspond à un « y_model » de 0.5. (50% de réponses « mince »). Nous allons donc tâcher de déterminer ce x_model.\n",
    "Dans un premier temps, essayez d’en faire une lecture sur le graphe p.\n",
    "Ensuite, nous allons déterminer le x_model qui amène la réponse la plus proche possible de 0.5. Ce ne sera pas 0.5 précisément, mais, pour ne pas trop compliquer les choses, nous nous contenterons de cette approximation.\n",
    "\n",
    "A faire:\n",
    "  * utilisez la fonction argmin pour chercher le point y_model le plus proche de 0.5 : Y_model_proche_de_0.5\n",
    "  * pour ca, vous aurez besoin de la valeur absolue de la différence à 0.5\n",
    "  * le x_model qui correspond à cet y_model_proche_de_0.5 : C’est le PES !\n",
    "    (vérifiez qu’il correspond bien à l’estimation graphique que vous en avez faite)\n",
    "\n",
    "Contrainte:\n",
    "  * Mettre toutes les **pes** dans un DataFrame **all_pes **\n",
    "  * Bien organiser ce tableau.\n",
    " \n",
    "\n",
    "#### Etape 6 : analyse de groupe\n",
    "\n",
    "A partir du tableau **all_pes**:\n",
    "\n",
    "  * Faire la moyenne des PES en fonction du genre des participants. Représenter graphiquement ce résultat.\n",
    "  * Faire la moyenne des PES en fonction du type de silhouette. Représenter graphiquement ce résultat.\n",
    "  * Faire la moyenne des PES en fonction du type de silhouette et du genre du participant. Représenter graphiquement ce résultat.\n",
    "  * Faire un model a partir du dernier  résultats.\n",
    "\n",
    "\n"
   ]
  },
  {
   "cell_type": "markdown",
   "metadata": {},
   "source": [
    "# Etape 1: lire les fichiers\n",
    "\n",
    "  1. On extrait le zip la où il est. Soit à la main. Soit mieux sous python.\n",
    "  2. On parcours l'arborescence avec glob\n",
    "  3. On lit avec pandas.read_csv\n",
    "  4. On empile dans une liste\n",
    "  5. On concat le tout."
   ]
  },
  {
   "cell_type": "code",
   "execution_count": 63,
   "metadata": {
    "collapsed": true
   },
   "outputs": [],
   "source": [
    "import zipfile\n",
    "zipname = '../data/Data_exo_final.zip'\n",
    "f = zipfile.ZipFile(zipname)\n",
    "f.extractall('.')"
   ]
  },
  {
   "cell_type": "code",
   "execution_count": 65,
   "metadata": {},
   "outputs": [
    {
     "name": "stdout",
     "output_type": "stream",
     "text": [
      "    Numero Item Evaluation     RT Subject SubjectGender\n",
      "0        1   W2      mince  2.545     04F             F\n",
      "1        2   W9       gros  1.563     04F             F\n",
      "2        3   M6       gros  1.656     04F             F\n",
      "3        4   M5       gros  1.359     04F             F\n",
      "4        5   W1      mince  1.366     04F             F\n",
      "5        6   W5       gros  1.501     04F             F\n",
      "6        7   M8       gros  1.403     04F             F\n",
      "7        8   W8       gros  1.267     04F             F\n",
      "8        9   M4       gros  1.250     04F             F\n",
      "9       10   W6       gros  1.251     04F             F\n",
      "10      11   M2      mince  2.063     04F             F\n",
      "11      12   W3      mince  1.406     04F             F\n"
     ]
    }
   ],
   "source": [
    "import pandas as pd\n",
    "import numpy as np\n",
    "import glob\n",
    "import re\n",
    "\n",
    "data_path = './Data_exo_final/'\n",
    "all_data = []\n",
    "for subject_gender in ['F', 'H']:\n",
    "    pattern = data_path+'*Sujet*'+subject_gender\n",
    "    dirname_per_subject = glob.glob(pattern)\n",
    "    for dirname in dirname_per_subject:\n",
    "        subject = re.findall('.(\\d+).', dirname)[0]\n",
    "        subject = '{:02d}{}'.format(int(subject), subject_gender)\n",
    "        #print('*'*5)\n",
    "        #print(subject)\n",
    "        filenames_per_subject = glob.glob(dirname+'/*.csv')\n",
    "        for filename in filenames_per_subject:\n",
    "            #print(filename)\n",
    "            df = pd.read_csv(filename, sep=';', header=0)\n",
    "            df['Subject'] = subject\n",
    "            df['SubjectGender'] = subject_gender\n",
    "            all_data.append(df)\n",
    "data = pd.concat(all_data)\n",
    "\n",
    "\n",
    "print(data.head(12))\n",
    "\n"
   ]
  },
  {
   "cell_type": "code",
   "execution_count": 66,
   "metadata": {},
   "outputs": [
    {
     "name": "stdout",
     "output_type": "stream",
     "text": [
      "on enleve 25\n"
     ]
    }
   ],
   "source": [
    "# On ne garde que les RT<3.0s\n",
    "\n",
    "# ce qe l'on perd\n",
    "print('on enleve', data[data['RT']>=3.].shape[0])\n",
    "\n",
    "# ce qu'on garde\n",
    "data = data[data['RT']<3.]\n",
    "\n"
   ]
  },
  {
   "cell_type": "code",
   "execution_count": 67,
   "metadata": {
    "collapsed": true
   },
   "outputs": [],
   "source": [
    "#Sous excel pour la posetrité\n",
    "data.to_excel('data_subject.xlsx')"
   ]
  },
  {
   "cell_type": "markdown",
   "metadata": {},
   "source": [
    "# Etape 2: calcul des reponses par Sujet/Item"
   ]
  },
  {
   "cell_type": "code",
   "execution_count": 68,
   "metadata": {},
   "outputs": [
    {
     "data": {
      "text/html": [
       "<div>\n",
       "<table border=\"1\" class=\"dataframe\">\n",
       "  <thead>\n",
       "    <tr style=\"text-align: right;\">\n",
       "      <th></th>\n",
       "      <th>Evaluation</th>\n",
       "      <th>gros</th>\n",
       "      <th>mince</th>\n",
       "    </tr>\n",
       "    <tr>\n",
       "      <th>Subject</th>\n",
       "      <th>Item</th>\n",
       "      <th></th>\n",
       "      <th></th>\n",
       "    </tr>\n",
       "  </thead>\n",
       "  <tbody>\n",
       "    <tr>\n",
       "      <th rowspan=\"5\" valign=\"top\">01F</th>\n",
       "      <th>M1</th>\n",
       "      <td>NaN</td>\n",
       "      <td>8.0</td>\n",
       "    </tr>\n",
       "    <tr>\n",
       "      <th>M2</th>\n",
       "      <td>NaN</td>\n",
       "      <td>9.0</td>\n",
       "    </tr>\n",
       "    <tr>\n",
       "      <th>M3</th>\n",
       "      <td>NaN</td>\n",
       "      <td>9.0</td>\n",
       "    </tr>\n",
       "    <tr>\n",
       "      <th>M4</th>\n",
       "      <td>1.0</td>\n",
       "      <td>7.0</td>\n",
       "    </tr>\n",
       "    <tr>\n",
       "      <th>M5</th>\n",
       "      <td>10.0</td>\n",
       "      <td>NaN</td>\n",
       "    </tr>\n",
       "  </tbody>\n",
       "</table>\n",
       "</div>"
      ],
      "text/plain": [
       "Evaluation    gros  mince\n",
       "Subject Item             \n",
       "01F     M1     NaN    8.0\n",
       "        M2     NaN    9.0\n",
       "        M3     NaN    9.0\n",
       "        M4     1.0    7.0\n",
       "        M5    10.0    NaN"
      ]
     },
     "execution_count": 68,
     "metadata": {},
     "output_type": "execute_result"
    }
   ],
   "source": [
    "df = data.groupby(['Subject', 'Item', 'Evaluation'])['Subject'].count()\n",
    "df = df.unstack('Evaluation')\n",
    "df.head()"
   ]
  },
  {
   "cell_type": "code",
   "execution_count": 69,
   "metadata": {},
   "outputs": [
    {
     "data": {
      "text/html": [
       "<div>\n",
       "<table border=\"1\" class=\"dataframe\">\n",
       "  <thead>\n",
       "    <tr style=\"text-align: right;\">\n",
       "      <th></th>\n",
       "      <th>Evaluation</th>\n",
       "      <th>gros</th>\n",
       "      <th>mince</th>\n",
       "    </tr>\n",
       "    <tr>\n",
       "      <th>Subject</th>\n",
       "      <th>Item</th>\n",
       "      <th></th>\n",
       "      <th></th>\n",
       "    </tr>\n",
       "  </thead>\n",
       "  <tbody>\n",
       "    <tr>\n",
       "      <th rowspan=\"5\" valign=\"top\">01F</th>\n",
       "      <th>M1</th>\n",
       "      <td>0.0</td>\n",
       "      <td>8.0</td>\n",
       "    </tr>\n",
       "    <tr>\n",
       "      <th>M2</th>\n",
       "      <td>0.0</td>\n",
       "      <td>9.0</td>\n",
       "    </tr>\n",
       "    <tr>\n",
       "      <th>M3</th>\n",
       "      <td>0.0</td>\n",
       "      <td>9.0</td>\n",
       "    </tr>\n",
       "    <tr>\n",
       "      <th>M4</th>\n",
       "      <td>1.0</td>\n",
       "      <td>7.0</td>\n",
       "    </tr>\n",
       "    <tr>\n",
       "      <th>M5</th>\n",
       "      <td>10.0</td>\n",
       "      <td>0.0</td>\n",
       "    </tr>\n",
       "  </tbody>\n",
       "</table>\n",
       "</div>"
      ],
      "text/plain": [
       "Evaluation    gros  mince\n",
       "Subject Item             \n",
       "01F     M1     0.0    8.0\n",
       "        M2     0.0    9.0\n",
       "        M3     0.0    9.0\n",
       "        M4     1.0    7.0\n",
       "        M5    10.0    0.0"
      ]
     },
     "execution_count": 69,
     "metadata": {},
     "output_type": "execute_result"
    }
   ],
   "source": [
    "#Petite ruse pour mettre des 0 au lieu des nan\n",
    "df[df.isnull()] = 0\n",
    "df.head()"
   ]
  },
  {
   "cell_type": "code",
   "execution_count": 78,
   "metadata": {},
   "outputs": [
    {
     "data": {
      "text/html": [
       "<div>\n",
       "<table border=\"1\" class=\"dataframe\">\n",
       "  <thead>\n",
       "    <tr style=\"text-align: right;\">\n",
       "      <th></th>\n",
       "      <th>Evaluation</th>\n",
       "      <th>gros</th>\n",
       "      <th>mince</th>\n",
       "      <th>prop</th>\n",
       "    </tr>\n",
       "    <tr>\n",
       "      <th>Subject</th>\n",
       "      <th>Item</th>\n",
       "      <th></th>\n",
       "      <th></th>\n",
       "      <th></th>\n",
       "    </tr>\n",
       "  </thead>\n",
       "  <tbody>\n",
       "    <tr>\n",
       "      <th rowspan=\"18\" valign=\"top\">01F</th>\n",
       "      <th>M1</th>\n",
       "      <td>0.0</td>\n",
       "      <td>8.0</td>\n",
       "      <td>0.000000</td>\n",
       "    </tr>\n",
       "    <tr>\n",
       "      <th>M2</th>\n",
       "      <td>0.0</td>\n",
       "      <td>9.0</td>\n",
       "      <td>0.000000</td>\n",
       "    </tr>\n",
       "    <tr>\n",
       "      <th>M3</th>\n",
       "      <td>0.0</td>\n",
       "      <td>9.0</td>\n",
       "      <td>0.000000</td>\n",
       "    </tr>\n",
       "    <tr>\n",
       "      <th>M4</th>\n",
       "      <td>1.0</td>\n",
       "      <td>7.0</td>\n",
       "      <td>0.125000</td>\n",
       "    </tr>\n",
       "    <tr>\n",
       "      <th>M5</th>\n",
       "      <td>10.0</td>\n",
       "      <td>0.0</td>\n",
       "      <td>1.000000</td>\n",
       "    </tr>\n",
       "    <tr>\n",
       "      <th>M6</th>\n",
       "      <td>10.0</td>\n",
       "      <td>0.0</td>\n",
       "      <td>1.000000</td>\n",
       "    </tr>\n",
       "    <tr>\n",
       "      <th>M7</th>\n",
       "      <td>10.0</td>\n",
       "      <td>0.0</td>\n",
       "      <td>1.000000</td>\n",
       "    </tr>\n",
       "    <tr>\n",
       "      <th>M8</th>\n",
       "      <td>9.0</td>\n",
       "      <td>0.0</td>\n",
       "      <td>1.000000</td>\n",
       "    </tr>\n",
       "    <tr>\n",
       "      <th>M9</th>\n",
       "      <td>10.0</td>\n",
       "      <td>0.0</td>\n",
       "      <td>1.000000</td>\n",
       "    </tr>\n",
       "    <tr>\n",
       "      <th>W1</th>\n",
       "      <td>0.0</td>\n",
       "      <td>7.0</td>\n",
       "      <td>0.000000</td>\n",
       "    </tr>\n",
       "    <tr>\n",
       "      <th>W2</th>\n",
       "      <td>0.0</td>\n",
       "      <td>10.0</td>\n",
       "      <td>0.000000</td>\n",
       "    </tr>\n",
       "    <tr>\n",
       "      <th>W3</th>\n",
       "      <td>0.0</td>\n",
       "      <td>10.0</td>\n",
       "      <td>0.000000</td>\n",
       "    </tr>\n",
       "    <tr>\n",
       "      <th>W4</th>\n",
       "      <td>1.0</td>\n",
       "      <td>8.0</td>\n",
       "      <td>0.111111</td>\n",
       "    </tr>\n",
       "    <tr>\n",
       "      <th>W5</th>\n",
       "      <td>8.0</td>\n",
       "      <td>0.0</td>\n",
       "      <td>1.000000</td>\n",
       "    </tr>\n",
       "    <tr>\n",
       "      <th>W6</th>\n",
       "      <td>10.0</td>\n",
       "      <td>0.0</td>\n",
       "      <td>1.000000</td>\n",
       "    </tr>\n",
       "    <tr>\n",
       "      <th>W7</th>\n",
       "      <td>8.0</td>\n",
       "      <td>0.0</td>\n",
       "      <td>1.000000</td>\n",
       "    </tr>\n",
       "    <tr>\n",
       "      <th>W8</th>\n",
       "      <td>10.0</td>\n",
       "      <td>0.0</td>\n",
       "      <td>1.000000</td>\n",
       "    </tr>\n",
       "    <tr>\n",
       "      <th>W9</th>\n",
       "      <td>10.0</td>\n",
       "      <td>0.0</td>\n",
       "      <td>1.000000</td>\n",
       "    </tr>\n",
       "    <tr>\n",
       "      <th rowspan=\"2\" valign=\"top\">02F</th>\n",
       "      <th>M1</th>\n",
       "      <td>0.0</td>\n",
       "      <td>10.0</td>\n",
       "      <td>0.000000</td>\n",
       "    </tr>\n",
       "    <tr>\n",
       "      <th>M2</th>\n",
       "      <td>0.0</td>\n",
       "      <td>9.0</td>\n",
       "      <td>0.000000</td>\n",
       "    </tr>\n",
       "  </tbody>\n",
       "</table>\n",
       "</div>"
      ],
      "text/plain": [
       "Evaluation    gros  mince      prop\n",
       "Subject Item                       \n",
       "01F     M1     0.0    8.0  0.000000\n",
       "        M2     0.0    9.0  0.000000\n",
       "        M3     0.0    9.0  0.000000\n",
       "        M4     1.0    7.0  0.125000\n",
       "        M5    10.0    0.0  1.000000\n",
       "        M6    10.0    0.0  1.000000\n",
       "        M7    10.0    0.0  1.000000\n",
       "        M8     9.0    0.0  1.000000\n",
       "        M9    10.0    0.0  1.000000\n",
       "        W1     0.0    7.0  0.000000\n",
       "        W2     0.0   10.0  0.000000\n",
       "        W3     0.0   10.0  0.000000\n",
       "        W4     1.0    8.0  0.111111\n",
       "        W5     8.0    0.0  1.000000\n",
       "        W6    10.0    0.0  1.000000\n",
       "        W7     8.0    0.0  1.000000\n",
       "        W8    10.0    0.0  1.000000\n",
       "        W9    10.0    0.0  1.000000\n",
       "02F     M1     0.0   10.0  0.000000\n",
       "        M2     0.0    9.0  0.000000"
      ]
     },
     "execution_count": 78,
     "metadata": {},
     "output_type": "execute_result"
    }
   ],
   "source": [
    "#On ajjoute une colonne proportion\n",
    "df['prop'] = df['gros']/(df['mince']+df['gros'])\n",
    "df.head(20)\n"
   ]
  },
  {
   "cell_type": "code",
   "execution_count": 79,
   "metadata": {
    "collapsed": true
   },
   "outputs": [],
   "source": [
    "#On case les index et on creer une colonne ItemSize\n",
    "\n",
    "df2 = df.reset_index()\n",
    "\n",
    "def create_ItemGender(text):\n",
    "    return text[0]\n",
    "\n",
    "def create_ItemSize(text):\n",
    "    return float(text[1])\n",
    "\n",
    "df2['ItemGender'] = df2['Item'].apply(create_ItemGender)\n",
    "df2['ItemSize'] = df2['Item'].apply(create_ItemSize)\n",
    "df2.head(25)\n",
    "\n",
    "data['ItemGender'] = data['Item'].apply(create_ItemGender)\n",
    "data['ItemSize'] = data['Item'].apply(create_ItemSize)\n"
   ]
  },
  {
   "cell_type": "markdown",
   "metadata": {},
   "source": [
    "# Etape 3: Affichage avec seaborn"
   ]
  },
  {
   "cell_type": "code",
   "execution_count": 80,
   "metadata": {
    "collapsed": true
   },
   "outputs": [],
   "source": [
    "%matplotlib inline\n",
    "import matplotlib.pyplot as plt\n",
    "import seaborn as sns"
   ]
  },
  {
   "cell_type": "code",
   "execution_count": 81,
   "metadata": {},
   "outputs": [
    {
     "data": {
      "text/plain": [
       "<seaborn.axisgrid.FacetGrid at 0x7f0866e71198>"
      ]
     },
     "execution_count": 81,
     "metadata": {},
     "output_type": "execute_result"
    },
    {
     "data": {
      "image/png": "[encoded data removed]",
      "text/plain": [
       "<matplotlib.figure.Figure at 0x7f0866e13940>"
      ]
     },
     "metadata": {},
     "output_type": "display_data"
    }
   ],
   "source": [
    "colors_item_gender = {'M':'blue', 'W':'green'}\n",
    "grid = sns.FacetGrid(df2, col=\"Subject\", hue=\"ItemGender\", col_wrap=4, palette=colors_item_gender)\n",
    "grid.map(plt.plot, \"ItemSize\", \"prop\", marker=\"o\", ms=4)\n",
    "grid.add_legend()"
   ]
  },
  {
   "cell_type": "markdown",
   "metadata": {},
   "source": [
    "# Etape 4: fit des data pour trouver le PES"
   ]
  },
  {
   "cell_type": "code",
   "execution_count": 82,
   "metadata": {},
   "outputs": [
    {
     "name": "stdout",
     "output_type": "stream",
     "text": [
      "01F M\n",
      "01F W\n",
      "02F M\n",
      "02F W\n",
      "03F M\n",
      "03F W\n",
      "04F M\n",
      "04F W\n",
      "05F M\n",
      "05F W\n",
      "06H M\n",
      "06H W\n",
      "07H M\n",
      "07H W\n",
      "08H M\n",
      "08H W\n",
      "09H M\n",
      "09H W\n",
      "10H M\n",
      "10H W\n"
     ]
    }
   ],
   "source": [
    "import statsmodels.api as sm\n",
    "from statsmodels.formula.api import glm\n",
    "\n",
    "subjects = df2['Subject'].unique()\n",
    "item_genders = df2['ItemGender'].unique()\n",
    "\n",
    "#subjects = subjects[:1]\n",
    "\n",
    "all_fit = {}\n",
    "for subject in subjects:\n",
    "    for item_gender in item_genders:\n",
    "        print(subject, item_gender)\n",
    "        subdata = data[(data['Subject']==subject) & (data['ItemGender']==item_gender)].copy()\n",
    "        #subdata['mince'] = (subdata['Evaluation']=='mince').astype(int)\n",
    "        subdata['gros'] = (subdata['Evaluation']=='gros').astype(int)\n",
    "        #print(subdata)\n",
    "        #binom = subdata[['gros', 'mince']]\n",
    "        #binom = subdata['gros']\n",
    "        #print(binom)\n",
    "        #model = sm.GLM(binom, subdata['ItemSize'], family=sm.families.Binomial())\n",
    "        #model = sm.Logit(binom, subdata['ItemSize'])\n",
    "        try:\n",
    "            model = glm('gros~ItemSize', subdata, family=sm.families.Binomial())\n",
    "            model_result = model.fit()\n",
    "            #print(model_result.summary())\n",
    "\n",
    "            all_fit[(subject, item_gender)] = model_result\n",
    "        except:\n",
    "            pass\n",
    "\n"
   ]
  },
  {
   "cell_type": "code",
   "execution_count": 83,
   "metadata": {},
   "outputs": [
    {
     "data": {
      "image/png": "[encoded data removed]",
      "text/plain": [
       "<matplotlib.figure.Figure at 0x7f08801a63c8>"
      ]
     },
     "metadata": {},
     "output_type": "display_data"
    }
   ],
   "source": [
    "# On affiche dans le meme graph que précédement\n",
    "grid = sns.FacetGrid(df2, col=\"Subject\", hue=\"ItemGender\", col_wrap=4, palette=colors_item_gender)\n",
    "grid.map(plt.plot, \"ItemSize\", \"prop\", marker=\"o\", ms=4)\n",
    "grid.add_legend()\n",
    "\n",
    "x = pd.Series(np.arange(0,10,0.01), name='ItemSize')\n",
    "\n",
    "\n",
    "for i, subject in enumerate(subjects):\n",
    "    ax = grid.axes.flatten()[i]\n",
    "    for item_gender in item_genders:\n",
    "        if (subject, item_gender) not in all_fit:\n",
    "            continue\n",
    "        \n",
    "        model_result = all_fit[(subject, item_gender)]\n",
    "        #print(model_result.params)\n",
    "        y = model_result.predict(x)\n",
    "        ax.plot(x, y, ls='--', color=colors_item_gender[item_gender])\n",
    "\n"
   ]
  },
  {
   "cell_type": "markdown",
   "metadata": {},
   "source": [
    "# Etape 5 :  déterminer le PES a partir de la courbe psychometrique"
   ]
  },
  {
   "cell_type": "code",
   "execution_count": 107,
   "metadata": {},
   "outputs": [
    {
     "data": {
      "text/html": [
       "<div>\n",
       "<table border=\"1\" class=\"dataframe\">\n",
       "  <thead>\n",
       "    <tr style=\"text-align: right;\">\n",
       "      <th></th>\n",
       "      <th></th>\n",
       "      <th>pes</th>\n",
       "    </tr>\n",
       "    <tr>\n",
       "      <th>Subject</th>\n",
       "      <th>ItemGender</th>\n",
       "      <th></th>\n",
       "    </tr>\n",
       "  </thead>\n",
       "  <tbody>\n",
       "    <tr>\n",
       "      <th rowspan=\"2\" valign=\"top\">01F</th>\n",
       "      <th>M</th>\n",
       "      <td>4.08</td>\n",
       "    </tr>\n",
       "    <tr>\n",
       "      <th>W</th>\n",
       "      <td>4.08</td>\n",
       "    </tr>\n",
       "    <tr>\n",
       "      <th rowspan=\"2\" valign=\"top\">02F</th>\n",
       "      <th>M</th>\n",
       "      <td>4.01</td>\n",
       "    </tr>\n",
       "    <tr>\n",
       "      <th>W</th>\n",
       "      <td>3.70</td>\n",
       "    </tr>\n",
       "    <tr>\n",
       "      <th rowspan=\"2\" valign=\"top\">03F</th>\n",
       "      <th>M</th>\n",
       "      <td>NaN</td>\n",
       "    </tr>\n",
       "    <tr>\n",
       "      <th>W</th>\n",
       "      <td>3.04</td>\n",
       "    </tr>\n",
       "    <tr>\n",
       "      <th rowspan=\"2\" valign=\"top\">04F</th>\n",
       "      <th>M</th>\n",
       "      <td>4.09</td>\n",
       "    </tr>\n",
       "    <tr>\n",
       "      <th>W</th>\n",
       "      <td>4.30</td>\n",
       "    </tr>\n",
       "    <tr>\n",
       "      <th rowspan=\"2\" valign=\"top\">05F</th>\n",
       "      <th>M</th>\n",
       "      <td>NaN</td>\n",
       "    </tr>\n",
       "    <tr>\n",
       "      <th>W</th>\n",
       "      <td>3.39</td>\n",
       "    </tr>\n",
       "    <tr>\n",
       "      <th rowspan=\"2\" valign=\"top\">06H</th>\n",
       "      <th>M</th>\n",
       "      <td>4.91</td>\n",
       "    </tr>\n",
       "    <tr>\n",
       "      <th>W</th>\n",
       "      <td>5.94</td>\n",
       "    </tr>\n",
       "    <tr>\n",
       "      <th rowspan=\"2\" valign=\"top\">07H</th>\n",
       "      <th>M</th>\n",
       "      <td>4.91</td>\n",
       "    </tr>\n",
       "    <tr>\n",
       "      <th>W</th>\n",
       "      <td>5.94</td>\n",
       "    </tr>\n",
       "    <tr>\n",
       "      <th rowspan=\"2\" valign=\"top\">08H</th>\n",
       "      <th>M</th>\n",
       "      <td>4.80</td>\n",
       "    </tr>\n",
       "    <tr>\n",
       "      <th>W</th>\n",
       "      <td>5.98</td>\n",
       "    </tr>\n",
       "    <tr>\n",
       "      <th rowspan=\"2\" valign=\"top\">09H</th>\n",
       "      <th>M</th>\n",
       "      <td>4.61</td>\n",
       "    </tr>\n",
       "    <tr>\n",
       "      <th>W</th>\n",
       "      <td>5.94</td>\n",
       "    </tr>\n",
       "    <tr>\n",
       "      <th rowspan=\"2\" valign=\"top\">10H</th>\n",
       "      <th>M</th>\n",
       "      <td>5.50</td>\n",
       "    </tr>\n",
       "    <tr>\n",
       "      <th>W</th>\n",
       "      <td>6.04</td>\n",
       "    </tr>\n",
       "  </tbody>\n",
       "</table>\n",
       "</div>"
      ],
      "text/plain": [
       "                     pes\n",
       "Subject ItemGender      \n",
       "01F     M           4.08\n",
       "        W           4.08\n",
       "02F     M           4.01\n",
       "        W           3.70\n",
       "03F     M            NaN\n",
       "        W           3.04\n",
       "04F     M           4.09\n",
       "        W           4.30\n",
       "05F     M            NaN\n",
       "        W           3.39\n",
       "06H     M           4.91\n",
       "        W           5.94\n",
       "07H     M           4.91\n",
       "        W           5.94\n",
       "08H     M           4.80\n",
       "        W           5.98\n",
       "09H     M           4.61\n",
       "        W           5.94\n",
       "10H     M           5.50\n",
       "        W           6.04"
      ]
     },
     "execution_count": 107,
     "metadata": {},
     "output_type": "execute_result"
    }
   ],
   "source": [
    "# on trouve la PES pour chaque subjet/ItemGender\n",
    "# valeur de Item size quand prop est proche de 0.5\n",
    "\n",
    "index = pd.MultiIndex.from_product([subjects, item_genders], names=['Subject', 'ItemGender'])\n",
    "all_pes = pd.DataFrame(index=index, columns=['pes'], dtype='float64')\n",
    "\n",
    "\n",
    "x = pd.Series(np.arange(0,10,0.01), name='ItemSize')\n",
    "\n",
    "for subject in subjects:\n",
    "    for item_gender in item_genders:\n",
    "        if (subject, item_gender) not in all_fit:\n",
    "            continue\n",
    "        \n",
    "        model = all_fit[(subject, item_gender)]\n",
    "        y = model.predict(x)\n",
    "        ind = np.argmin(np.abs(y-.5))\n",
    "        all_pes.loc[(subject, item_gender), 'pes'] = x[ind]\n",
    "\n",
    "#all_pes = all_pes.unstack('ItemGender')\n",
    "all_pes\n"
   ]
  },
  {
   "cell_type": "markdown",
   "metadata": {
    "collapsed": true
   },
   "source": [
    "# Etape 6 : analyse de groupe\n",
    "\n"
   ]
  },
  {
   "cell_type": "code",
   "execution_count": 108,
   "metadata": {},
   "outputs": [
    {
     "data": {
      "text/html": [
       "<div>\n",
       "<table border=\"1\" class=\"dataframe\">\n",
       "  <thead>\n",
       "    <tr style=\"text-align: right;\">\n",
       "      <th></th>\n",
       "      <th>Subject</th>\n",
       "      <th>ItemGender</th>\n",
       "      <th>pes</th>\n",
       "      <th>SubjectGender</th>\n",
       "    </tr>\n",
       "  </thead>\n",
       "  <tbody>\n",
       "    <tr>\n",
       "      <th>0</th>\n",
       "      <td>01F</td>\n",
       "      <td>M</td>\n",
       "      <td>4.08</td>\n",
       "      <td>F</td>\n",
       "    </tr>\n",
       "    <tr>\n",
       "      <th>1</th>\n",
       "      <td>01F</td>\n",
       "      <td>W</td>\n",
       "      <td>4.08</td>\n",
       "      <td>F</td>\n",
       "    </tr>\n",
       "    <tr>\n",
       "      <th>2</th>\n",
       "      <td>02F</td>\n",
       "      <td>M</td>\n",
       "      <td>4.01</td>\n",
       "      <td>F</td>\n",
       "    </tr>\n",
       "    <tr>\n",
       "      <th>3</th>\n",
       "      <td>02F</td>\n",
       "      <td>W</td>\n",
       "      <td>3.70</td>\n",
       "      <td>F</td>\n",
       "    </tr>\n",
       "    <tr>\n",
       "      <th>4</th>\n",
       "      <td>03F</td>\n",
       "      <td>M</td>\n",
       "      <td>NaN</td>\n",
       "      <td>F</td>\n",
       "    </tr>\n",
       "    <tr>\n",
       "      <th>5</th>\n",
       "      <td>03F</td>\n",
       "      <td>W</td>\n",
       "      <td>3.04</td>\n",
       "      <td>F</td>\n",
       "    </tr>\n",
       "    <tr>\n",
       "      <th>6</th>\n",
       "      <td>04F</td>\n",
       "      <td>M</td>\n",
       "      <td>4.09</td>\n",
       "      <td>F</td>\n",
       "    </tr>\n",
       "    <tr>\n",
       "      <th>7</th>\n",
       "      <td>04F</td>\n",
       "      <td>W</td>\n",
       "      <td>4.30</td>\n",
       "      <td>F</td>\n",
       "    </tr>\n",
       "    <tr>\n",
       "      <th>8</th>\n",
       "      <td>05F</td>\n",
       "      <td>M</td>\n",
       "      <td>NaN</td>\n",
       "      <td>F</td>\n",
       "    </tr>\n",
       "    <tr>\n",
       "      <th>9</th>\n",
       "      <td>05F</td>\n",
       "      <td>W</td>\n",
       "      <td>3.39</td>\n",
       "      <td>F</td>\n",
       "    </tr>\n",
       "    <tr>\n",
       "      <th>10</th>\n",
       "      <td>06H</td>\n",
       "      <td>M</td>\n",
       "      <td>4.91</td>\n",
       "      <td>H</td>\n",
       "    </tr>\n",
       "    <tr>\n",
       "      <th>11</th>\n",
       "      <td>06H</td>\n",
       "      <td>W</td>\n",
       "      <td>5.94</td>\n",
       "      <td>H</td>\n",
       "    </tr>\n",
       "    <tr>\n",
       "      <th>12</th>\n",
       "      <td>07H</td>\n",
       "      <td>M</td>\n",
       "      <td>4.91</td>\n",
       "      <td>H</td>\n",
       "    </tr>\n",
       "    <tr>\n",
       "      <th>13</th>\n",
       "      <td>07H</td>\n",
       "      <td>W</td>\n",
       "      <td>5.94</td>\n",
       "      <td>H</td>\n",
       "    </tr>\n",
       "    <tr>\n",
       "      <th>14</th>\n",
       "      <td>08H</td>\n",
       "      <td>M</td>\n",
       "      <td>4.80</td>\n",
       "      <td>H</td>\n",
       "    </tr>\n",
       "    <tr>\n",
       "      <th>15</th>\n",
       "      <td>08H</td>\n",
       "      <td>W</td>\n",
       "      <td>5.98</td>\n",
       "      <td>H</td>\n",
       "    </tr>\n",
       "    <tr>\n",
       "      <th>16</th>\n",
       "      <td>09H</td>\n",
       "      <td>M</td>\n",
       "      <td>4.61</td>\n",
       "      <td>H</td>\n",
       "    </tr>\n",
       "    <tr>\n",
       "      <th>17</th>\n",
       "      <td>09H</td>\n",
       "      <td>W</td>\n",
       "      <td>5.94</td>\n",
       "      <td>H</td>\n",
       "    </tr>\n",
       "    <tr>\n",
       "      <th>18</th>\n",
       "      <td>10H</td>\n",
       "      <td>M</td>\n",
       "      <td>5.50</td>\n",
       "      <td>H</td>\n",
       "    </tr>\n",
       "    <tr>\n",
       "      <th>19</th>\n",
       "      <td>10H</td>\n",
       "      <td>W</td>\n",
       "      <td>6.04</td>\n",
       "      <td>H</td>\n",
       "    </tr>\n",
       "  </tbody>\n",
       "</table>\n",
       "</div>"
      ],
      "text/plain": [
       "   Subject ItemGender   pes SubjectGender\n",
       "0      01F          M  4.08             F\n",
       "1      01F          W  4.08             F\n",
       "2      02F          M  4.01             F\n",
       "3      02F          W  3.70             F\n",
       "4      03F          M   NaN             F\n",
       "5      03F          W  3.04             F\n",
       "6      04F          M  4.09             F\n",
       "7      04F          W  4.30             F\n",
       "8      05F          M   NaN             F\n",
       "9      05F          W  3.39             F\n",
       "10     06H          M  4.91             H\n",
       "11     06H          W  5.94             H\n",
       "12     07H          M  4.91             H\n",
       "13     07H          W  5.94             H\n",
       "14     08H          M  4.80             H\n",
       "15     08H          W  5.98             H\n",
       "16     09H          M  4.61             H\n",
       "17     09H          W  5.94             H\n",
       "18     10H          M  5.50             H\n",
       "19     10H          W  6.04             H"
      ]
     },
     "execution_count": 108,
     "metadata": {},
     "output_type": "execute_result"
    }
   ],
   "source": [
    "# Petite ruse pour récupérer le genre sans soucis\n",
    "all_pes = all_pes.reset_index()\n",
    "all_pes['SubjectGender'] = all_pes['Subject'].apply(lambda s: s[-1])\n",
    "all_pes"
   ]
  },
  {
   "cell_type": "code",
   "execution_count": 142,
   "metadata": {},
   "outputs": [
    {
     "name": "stdout",
     "output_type": "stream",
     "text": [
      "  SubjectGender      pes\n",
      "0             F  3.83625\n",
      "1             H  5.45700\n"
     ]
    },
    {
     "data": {
      "text/plain": [
       "<seaborn.axisgrid.FacetGrid at 0x7f0865eda3c8>"
      ]
     },
     "execution_count": 142,
     "metadata": {},
     "output_type": "execute_result"
    },
    {
     "data": {
      "image/png": "[encoded data removed]",
      "text/plain": [
       "<matplotlib.figure.Figure at 0x7f0865edae10>"
      ]
     },
     "metadata": {},
     "output_type": "display_data"
    }
   ],
   "source": [
    "# par SubjectGender\n",
    "m1 = all_pes.groupby(['SubjectGender'])['pes'].mean()\n",
    "print(m1)\n",
    "sns.factorplot(data=all_pes, x='SubjectGender', \n",
    "               pallette=colors_item_gender, y='pes')"
   ]
  },
  {
   "cell_type": "code",
   "execution_count": 144,
   "metadata": {},
   "outputs": [
    {
     "name": "stdout",
     "output_type": "stream",
     "text": [
      "ItemGender\n",
      "M    4.61375\n",
      "W    4.83500\n",
      "Name: pes, dtype: float64\n"
     ]
    },
    {
     "data": {
      "text/plain": [
       "<seaborn.axisgrid.FacetGrid at 0x7f0865e392b0>"
      ]
     },
     "execution_count": 144,
     "metadata": {},
     "output_type": "execute_result"
    },
    {
     "data": {
      "image/png": "[encoded data removed]",
      "text/plain": [
       "<matplotlib.figure.Figure at 0x7f0865e2b320>"
      ]
     },
     "metadata": {},
     "output_type": "display_data"
    }
   ],
   "source": [
    "# par ItemGender\n",
    "m2 = all_pes.groupby(['ItemGender'])['pes'].mean()\n",
    "print(m2)\n",
    "sns.factorplot(data=all_pes, x='ItemGender', \n",
    "               pallette=colors_item_gender, y='pes')"
   ]
  },
  {
   "cell_type": "code",
   "execution_count": 145,
   "metadata": {},
   "outputs": [
    {
     "data": {
      "text/html": [
       "<div>\n",
       "<table border=\"1\" class=\"dataframe\">\n",
       "  <thead>\n",
       "    <tr style=\"text-align: right;\">\n",
       "      <th></th>\n",
       "      <th>SubjectGender</th>\n",
       "      <th>ItemGender</th>\n",
       "      <th>pes</th>\n",
       "    </tr>\n",
       "  </thead>\n",
       "  <tbody>\n",
       "    <tr>\n",
       "      <th>0</th>\n",
       "      <td>F</td>\n",
       "      <td>M</td>\n",
       "      <td>4.060</td>\n",
       "    </tr>\n",
       "    <tr>\n",
       "      <th>1</th>\n",
       "      <td>F</td>\n",
       "      <td>W</td>\n",
       "      <td>3.702</td>\n",
       "    </tr>\n",
       "    <tr>\n",
       "      <th>2</th>\n",
       "      <td>H</td>\n",
       "      <td>M</td>\n",
       "      <td>4.946</td>\n",
       "    </tr>\n",
       "    <tr>\n",
       "      <th>3</th>\n",
       "      <td>H</td>\n",
       "      <td>W</td>\n",
       "      <td>5.968</td>\n",
       "    </tr>\n",
       "  </tbody>\n",
       "</table>\n",
       "</div>"
      ],
      "text/plain": [
       "  SubjectGender ItemGender    pes\n",
       "0             F          M  4.060\n",
       "1             F          W  3.702\n",
       "2             H          M  4.946\n",
       "3             H          W  5.968"
      ]
     },
     "execution_count": 145,
     "metadata": {},
     "output_type": "execute_result"
    }
   ],
   "source": [
    "# Par SubjectGender/ItemGender\n",
    "m3 = all_pes.groupby(['SubjectGender', 'ItemGender'])['pes'].mean()\n",
    "m3 = m3.reset_index()\n",
    "m3"
   ]
  },
  {
   "cell_type": "code",
   "execution_count": 146,
   "metadata": {},
   "outputs": [
    {
     "data": {
      "text/plain": [
       "<seaborn.axisgrid.FacetGrid at 0x7f0865e7d2b0>"
      ]
     },
     "execution_count": 146,
     "metadata": {},
     "output_type": "execute_result"
    },
    {
     "data": {
      "image/png": "[encoded data removed]",
      "text/plain": [
       "<matplotlib.figure.Figure at 0x7f0865d8fa58>"
      ]
     },
     "metadata": {},
     "output_type": "display_data"
    }
   ],
   "source": [
    "#Afficahge 1\n",
    "sns.factorplot(data=all_pes, x='SubjectGender', hue='ItemGender',\n",
    "               pallette=colors_item_gender, y='pes')"
   ]
  },
  {
   "cell_type": "code",
   "execution_count": 147,
   "metadata": {},
   "outputs": [
    {
     "data": {
      "text/plain": [
       "<matplotlib.axes._subplots.AxesSubplot at 0x7f0865eb14e0>"
      ]
     },
     "execution_count": 147,
     "metadata": {},
     "output_type": "execute_result"
    },
    {
     "data": {
      "image/png": "[encoded data removed]",
      "text/plain": [
       "<matplotlib.figure.Figure at 0x7f0865d1fcf8>"
      ]
     },
     "metadata": {},
     "output_type": "display_data"
    }
   ],
   "source": [
    "# Affichage 2\n",
    "m3bis = m3.set_index(['SubjectGender', 'ItemGender']).unstack('ItemGender')\n",
    "m3bis.columns = m3bis.columns.levels[1]\n",
    "m3bis\n",
    "sns.heatmap(m3bis, vmin=0., vmax=10.,cmap='plasma')"
   ]
  },
  {
   "cell_type": "code",
   "execution_count": 149,
   "metadata": {},
   "outputs": [
    {
     "name": "stdout",
     "output_type": "stream",
     "text": [
      "                    Mixed Linear Model Regression Results\n",
      "=============================================================================\n",
      "Model:                    MixedLM         Dependent Variable:         pes    \n",
      "No. Observations:         18              Method:                     REML   \n",
      "No. Groups:               10              Scale:                      0.0489 \n",
      "Min. group size:          1               Likelihood:                 -6.7720\n",
      "Max. group size:          2               Converged:                  Yes    \n",
      "Mean group size:          1.8                                                \n",
      "-----------------------------------------------------------------------------\n",
      "                                   Coef.  Std.Err.   z    P>|z| [0.025 0.975]\n",
      "-----------------------------------------------------------------------------\n",
      "Intercept                           3.865    0.221 17.519 0.000  3.433  4.298\n",
      "SubjectGender[T.H]                  1.081    0.270  3.997 0.000  0.551  1.611\n",
      "ItemGender[T.W]                    -0.163    0.209 -0.780 0.435 -0.573  0.247\n",
      "SubjectGender[T.H]:ItemGender[T.W]  1.185    0.252  4.709 0.000  0.692  1.679\n",
      "groups RE                           0.073    0.500                           \n",
      "=============================================================================\n",
      "\n"
     ]
    }
   ],
   "source": [
    "#Petite anova vite fait\n",
    "# Attention c'est un model mixte car chaque sujet fait plusieur mesure.\n",
    "from statsmodels.formula.api import mixedlm\n",
    "\n",
    "#on enleve les nan\n",
    "all_pes = all_pes[all_pes['pes'].notnull()]\n",
    "\n",
    "model = mixedlm('pes~SubjectGender*ItemGender', all_pes, groups='Subject') \n",
    "results = model.fit()\n",
    "print(results.summary())"
   ]
  },
  {
   "cell_type": "code",
   "execution_count": null,
   "metadata": {
    "collapsed": true
   },
   "outputs": [],
   "source": []
  }
 ],
 "metadata": {
  "kernelspec": {
   "display_name": "Python 3",
   "language": "python",
   "name": "python3"
  },
  "language_info": {
   "codemirror_mode": {
    "name": "ipython",
    "version": 3
   },
   "file_extension": ".py",
   "mimetype": "text/x-python",
   "name": "python",
   "nbconvert_exporter": "python",
   "pygments_lexer": "ipython3",
   "version": "3.5.2"
  }
 },
 "nbformat": 4,
 "nbformat_minor": 2
}
