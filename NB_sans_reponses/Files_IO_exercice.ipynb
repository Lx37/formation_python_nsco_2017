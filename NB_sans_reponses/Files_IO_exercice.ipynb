{
 "cells": [
  {
   "cell_type": "markdown",
   "metadata": {
    "deletable": true,
    "editable": true
   },
   "source": [
    "#### Exercice 1 - La disparition de Georges Pérec\n",
    "\n",
    "Ouvrez le fichier \"disparition.txt\".\n",
    "Faites le afficher proprement, ligne par ligne.\n",
    "Vérifiez qu'il s'agit bien d'une disparition (GIYF).\n",
    "\n",
    "\n"
   ]
  },
  {
   "cell_type": "code",
   "execution_count": 6,
   "metadata": {
    "collapsed": false,
    "deletable": true,
    "editable": true
   },
   "outputs": [
    {
     "name": "stdout",
     "output_type": "stream",
     "text": [
      "Anton Voyl n'arrivait pas à dormir. Il alluma. Son Jaz marquait minuit vingt. Il poussa un profond soupir, s'assit dans son lit, s'appuyant sur son polochon. Il prit un roman, il l'ouvrit, il lut; mais il n'y saisissait qu'un imbroglio confus, il butait a tout instant sur un mot dont il ignorait la signification.\n",
      "\n",
      "Il abandonna son roman sur son lit. Il alla alla son lavabo; il mouilla un gant qu'il passa sur son front, sur son cou.\n",
      "\n",
      "Son pouls battait trop fort. Il avait chaud. Il ouvrit son vasistas, scruta la nuit. Il faisait doux. Un bruit indistinct montait du faubourg. Un carillon, plus lourd qu'un glas, plus sourd qu'un tocsin, plus profond qu'un bourdon, non loin, sonna trois coups. Du canal Saint-Martin, un clapotis plaintif signalait un chaland qui passait.\n",
      "\n",
      "Sur l'abattant du vasistas, un animal au thorax indigo, a l'aiguillon safran, ni un cafard, ni un charancon, mais plutot un artison, s'avancait, trainant un brin d'alfa. Il s'approcha, voulant l'aplatir d'un coup vif, mais l'animal prit son vol, disparaissant dans la nuit avant qu'il ait pu l'assaillir.\n",
      "0\n"
     ]
    }
   ],
   "source": [
    "import os\n",
    "\n",
    "f=open(\"disparition.txt\",\"r\")\n",
    "lignes=f.readlines()\n",
    "n_e_total=0\n",
    "for el in lignes : \n",
    "    print (el)\n",
    "    n_e_total=el.count(\"e\")\n",
    "print(n_e_total)"
   ]
  },
  {
   "cell_type": "markdown",
   "metadata": {
    "deletable": true,
    "editable": true
   },
   "source": [
    "#### Exercice 2 - Pangrammes\n",
    "\n",
    "La chaine ci-dessous est un pangramme : \n",
    "\n",
    "p='portez ce vieux whisky au juge blond qui fume'\n",
    "\n",
    "\n",
    "\n",
    "1 - Créez le dictionnaire des fréquences de cette chaîne\n",
    "(avec l’association clef = caractère,\n",
    "valeur = nombre d’apparitions du caractère dans la chaîne).\n",
    "\n",
    "2 – Créez une liste contenant toutes les lettres de l’alphabet (voir chr(x))\n",
    "\n",
    "3 -  Créez la liste  correspondant uniquement aux lettres de la chaine\n",
    "on ne veut pas les caractères qui ne sont pas des lettres !\n",
    "\n",
    "4 - Vérifiez si la chaine est un pangramme\n",
    "\n"
   ]
  },
  {
   "cell_type": "code",
   "execution_count": 7,
   "metadata": {
    "collapsed": false,
    "deletable": true,
    "editable": true
   },
   "outputs": [
    {
     "name": "stdout",
     "output_type": "stream",
     "text": [
      "portez ce vieux whisky au juge blond qui fume  est bien un pangramme\n",
      "pangramme\n"
     ]
    }
   ],
   "source": []
  },
  {
   "cell_type": "markdown",
   "metadata": {
    "collapsed": true,
    "deletable": true,
    "editable": true
   },
   "source": [
    "#### Exercice 3 : Traduire un SMS en langage ado \n",
    "\n",
    "A partir du fichier sms.txt créer un dictionnaire.\n",
    "\n",
    "Traduisez ensuite un message en francais en langage sms.\n",
    "\n",
    "Pensez à supprimez les espaces pour traduire, et à les remettre pour afficher la traduction :-)"
   ]
  },
  {
   "cell_type": "code",
   "execution_count": null,
   "metadata": {
    "collapsed": true,
    "deletable": true,
    "editable": true
   },
   "outputs": [],
   "source": []
  }
 ],
 "metadata": {
  "kernelspec": {
   "display_name": "Python 3",
   "language": "python",
   "name": "python3"
  },
  "language_info": {
   "codemirror_mode": {
    "name": "ipython",
    "version": 3
   },
   "file_extension": ".py",
   "mimetype": "text/x-python",
   "name": "python",
   "nbconvert_exporter": "python",
   "pygments_lexer": "ipython3",
   "version": "3.5.2"
  }
 },
 "nbformat": 4,
 "nbformat_minor": 2
}
