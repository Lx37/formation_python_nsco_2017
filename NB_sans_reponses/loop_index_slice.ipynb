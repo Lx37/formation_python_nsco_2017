{
 "cells": [
  {
   "cell_type": "markdown",
   "metadata": {},
   "source": [
    "___\n",
    "# Les boucles, le slicing, les indexs de listes et les dictionnaires \n",
    "___"
   ]
  },
  {
   "cell_type": "markdown",
   "metadata": {},
   "source": [
    "### Structure :\n",
    "\n",
    "for elem in list: (toujours faire attention aux deux points!)\n",
    "\n",
    "    do something (attention a l'indentation)\n",
    "    "
   ]
  },
  {
   "cell_type": "markdown",
   "metadata": {},
   "source": [
    "#### Exercice 0 : Manipulation de listes\n",
    "\n",
    "En partant de la liste suivante:\n",
    "\n",
    "\tmaListe = [76, 92.3, 'hello', \"coucou\", 4, 76]\n",
    "    \n",
    "Réaliser les actions suivantes : \n",
    "\t- Ajoute \"cheval\" et 76 à la liste\n",
    "\t- Insère la valeur \"chien\" à la position 3\n",
    "\t- Insère la valeur 99 en début de liste\n",
    "\t- Trouve et affiche la position de \"hello\"\n",
    "\t- Compte et affiche le nombre de 76 dans la liste\n",
    "\t- Retire la première occurrence de 76\n",
    "\t- Retire \"coucou\" de la liste, en utilisant pop() et index()"
   ]
  },
  {
   "cell_type": "code",
   "execution_count": null,
   "metadata": {
    "collapsed": true
   },
   "outputs": [],
   "source": [
    "#### solution exercice 0\n",
    "maListe = [76, 92.3, 'hello', \"coucou\", 4, 76]\n",
    "maListe.append(\"cheval\")\n",
    "maListe.append(76)\n",
    "maListe.insert(3,\"chien\")\n",
    "maListe.insert(0,99)\n",
    "print(maListe.index(\"hello\"))\n",
    "print(maListe.count(76))\n",
    "maListe.remove(76)\n",
    "maListe.pop(maListe.index(\"coucou\"))\n",
    "print(maListe)"
   ]
  },
  {
   "cell_type": "markdown",
   "metadata": {},
   "source": [
    "## 1 - Boucle for avec range (par compteur)"
   ]
  },
  {
   "cell_type": "markdown",
   "metadata": {},
   "source": [
    "Par exemple, si on veut boucler sur des indexs\n",
    "\n"
   ]
  },
  {
   "cell_type": "code",
   "execution_count": 2,
   "metadata": {
    "collapsed": false
   },
   "outputs": [
    {
     "name": "stdout",
     "output_type": "stream",
     "text": [
      "0\n",
      "1\n",
      "2\n",
      "3\n",
      "4\n",
      "5\n",
      "6\n",
      "7\n",
      "8\n",
      "9\n"
     ]
    }
   ],
   "source": [
    "for i in range(10):\n",
    "    print(i)"
   ]
  },
  {
   "cell_type": "markdown",
   "metadata": {
    "collapsed": true
   },
   "source": [
    "(Dans python < 3, range est une liste; depuis python 3, range est un iterable, chaque element est genéré a la volée.\n",
    "Ceci presente l'avantage de pouvoir boucler des millions de fois,sans avoir a stocker les milions d'elements de la liste"
   ]
  },
  {
   "cell_type": "markdown",
   "metadata": {},
   "source": [
    "## 2 - Boucle avec elements"
   ]
  },
  {
   "cell_type": "markdown",
   "metadata": {},
   "source": [
    "On peut aussi boucler sur les elements d'une liste directement"
   ]
  },
  {
   "cell_type": "code",
   "execution_count": 2,
   "metadata": {
    "collapsed": false
   },
   "outputs": [
    {
     "name": "stdout",
     "output_type": "stream",
     "text": [
      "a\n",
      "b\n",
      "c\n",
      "d\n",
      "e\n",
      "f\n",
      "g\n",
      "h\n"
     ]
    }
   ],
   "source": [
    "lettres = ['a','b','c','d','e','f','g','h']\n",
    "\n",
    "for lettre in lettres:\n",
    "    print(lettre)"
   ]
  },
  {
   "cell_type": "markdown",
   "metadata": {},
   "source": [
    "On peut aussi repartir des indexes de la liste, en utilisant len(), qui donne la taille de la liste\n"
   ]
  },
  {
   "cell_type": "code",
   "execution_count": 3,
   "metadata": {
    "collapsed": false
   },
   "outputs": [
    {
     "name": "stdout",
     "output_type": "stream",
     "text": [
      "8\n"
     ]
    }
   ],
   "source": [
    "print(len(lettres))"
   ]
  },
  {
   "cell_type": "code",
   "execution_count": 4,
   "metadata": {
    "collapsed": false
   },
   "outputs": [
    {
     "name": "stdout",
     "output_type": "stream",
     "text": [
      "0 a\n",
      "1 b\n",
      "2 c\n",
      "3 d\n",
      "4 e\n",
      "5 f\n",
      "6 g\n",
      "7 h\n"
     ]
    }
   ],
   "source": [
    "for i in range(len(lettres)):\n",
    "    print(i,lettres[i])\n",
    "    "
   ]
  },
  {
   "cell_type": "markdown",
   "metadata": {},
   "source": [
    "#### Exercice 2.1 - Copie de liste sans doublons\n",
    "\n",
    "Vous avez la liste suivante: \n",
    "\n",
    "nombres = [1, 3, 4, 5, 6, 3, 8, 7, 4, 1, 2, 5, 6, 3, 4, 9, 6] \n",
    "\n",
    "Créer une nouvelle liste à partir de la première, sans doublons (ie : sans deux fois le même élément). \n",
    "\n",
    "Afficher la dans l'ordre décroissant (sorted() ou .sort(), voir les options)"
   ]
  },
  {
   "cell_type": "code",
   "execution_count": 7,
   "metadata": {
    "collapsed": false
   },
   "outputs": [
    {
     "name": "stdout",
     "output_type": "stream",
     "text": [
      "[9, 8, 7, 2]\n"
     ]
    }
   ],
   "source": [
    "#### Solution Exercice 2.1\n",
    "\n",
    "nombres = [1, 3, 4, 5, 6, 3, 8, 7, 4, 1, 2, 5, 6, 3, 4, 9, 6]\n",
    "nombres_copie=[]\n",
    "for el in nombres : \n",
    "    if nombres.count(el) == 1 :\n",
    "        nombres_copie.append(el)\n",
    "\n",
    "print(sorted(nombres_copie,reverse=True))\n",
    "\n"
   ]
  },
  {
   "cell_type": "markdown",
   "metadata": {},
   "source": [
    "### 3 - Enumerate"
   ]
  },
  {
   "cell_type": "markdown",
   "metadata": {},
   "source": [
    "Enumerate permet de boucler sur les elements d'une liste tout en recuperant ses indexes "
   ]
  },
  {
   "cell_type": "code",
   "execution_count": 5,
   "metadata": {
    "collapsed": false
   },
   "outputs": [
    {
     "name": "stdout",
     "output_type": "stream",
     "text": [
      "0 a\n",
      "1 b\n",
      "2 c\n",
      "3 d\n",
      "4 e\n",
      "5 f\n",
      "6 g\n",
      "7 h\n"
     ]
    }
   ],
   "source": [
    "for i,elem in enumerate(lettres):\n",
    "    print(i,elem)"
   ]
  },
  {
   "cell_type": "markdown",
   "metadata": {},
   "source": [
    "#### Exercice  3.1: boucle sur liste\n",
    "\n",
    "Construire une liste de 33 elements: \n",
    "```\n",
    "[ \"monique 0\", \"therese 0\", \"jean claude 0\",\n",
    "\"monique 1\", \"therese 1\", \"jean claude 1\",\n",
    "\"monique 2\", \"therese 2\", \"jean claude 2\", ... ,\n",
    "\"monique 10\" \"therese 10\", \"jean claude 10\"]\n",
    "```"
   ]
  },
  {
   "cell_type": "markdown",
   "metadata": {},
   "source": [
    "#### Solution Exercice 3.1"
   ]
  },
  {
   "cell_type": "code",
   "execution_count": 6,
   "metadata": {
    "collapsed": false
   },
   "outputs": [
    {
     "name": "stdout",
     "output_type": "stream",
     "text": [
      "['monique 0', 'therese 0', 'jean claude 0', 'monique 1', 'therese 1', 'jean claude 1', 'monique 2', 'therese 2', 'jean claude 2', 'monique 3', 'therese 3', 'jean claude 3', 'monique 4', 'therese 4', 'jean claude 4', 'monique 5', 'therese 5', 'jean claude 5', 'monique 6', 'therese 6', 'jean claude 6', 'monique 7', 'therese 7', 'jean claude 7', 'monique 8', 'therese 8', 'jean claude 8', 'monique 9', 'therese 9', 'jean claude 9', 'monique 10', 'therese 10', 'jean claude 10']\n"
     ]
    }
   ],
   "source": [
    "## solution 3.1\n",
    "\n",
    "liste_noms = []\n",
    "\n",
    "\n",
    "for i in range(11):\n",
    "    for nom in ['monique','therese','jean claude']:\n",
    "        \n",
    "        nom_num = nom + ' ' + str(i)\n",
    "        \n",
    "        liste_noms.append(nom_num)\n",
    "        \n",
    "print(liste_noms)"
   ]
  },
  {
   "cell_type": "markdown",
   "metadata": {},
   "source": [
    "#### Exercice 3.2 : boucler sur une liste\n",
    "\n",
    "Soit la liste des 7 nains suivante : \n",
    "\n",
    "lesNains = [\"simplet\",\"grincheux\",\"prof\",\"joyeux\",\"atchoum\",\"timide\", \"dormeur\"] \n",
    "\n",
    "Dites bonjour aux 7 nains, en leur donnant leur nom et leur numéro, dans l'ordre alphabétique (méthode .sort() )"
   ]
  },
  {
   "cell_type": "code",
   "execution_count": 2,
   "metadata": {
    "collapsed": false
   },
   "outputs": [
    {
     "name": "stdout",
     "output_type": "stream",
     "text": [
      "bonjour cher  atchoum  tu es le numero  0\n",
      "bonjour cher  dormeur  tu es le numero  1\n",
      "bonjour cher  grincheux  tu es le numero  2\n",
      "bonjour cher  joyeux  tu es le numero  3\n",
      "bonjour cher  prof  tu es le numero  4\n",
      "bonjour cher  simplet  tu es le numero  5\n",
      "bonjour cher  timide  tu es le numero  6\n"
     ]
    }
   ],
   "source": [
    "#solution exercice 3.2\n",
    "lesNains = [\"simplet\",\"grincheux\",\"prof\",\"joyeux\",\"atchoum\",\"timide\", \"dormeur\"]\n",
    "lesNains.sort()\n",
    "for nain in lesNains:\n",
    "    print(\"bonjour cher \",nain,\" tu es le numero \",lesNains.index(nain))"
   ]
  },
  {
   "cell_type": "markdown",
   "metadata": {},
   "source": [
    "#### exercice 3.3 : mot de passe\n",
    "\n",
    "chaine='0123456789ABCDEFGHIJKLMNOPQRSTUVWXYZabcdefghijklmnopqrstuvwxyz' \n",
    "\n",
    "Fixez une longueur N. \n",
    "\n",
    "D'apres la chaine ci-dessous, générez un mot de passe aléatoire de longueur N.\n",
    "\n",
    "NB : from random import choice pui random.choice(liste) permet de choisir au hasard un élément dans la liste\n"
   ]
  },
  {
   "cell_type": "code",
   "execution_count": 12,
   "metadata": {
    "collapsed": false
   },
   "outputs": [
    {
     "name": "stdout",
     "output_type": "stream",
     "text": [
      "zu5zgR\n"
     ]
    }
   ],
   "source": [
    "#### correction exercice 3.3 \n",
    "import random\n",
    "N=6\n",
    "\n",
    "password=[]\n",
    "chaine='0123456789ABCDEFGHIJKLMNOPQRSTUVWXYZabcdefghijklmnopqrstuvwxyz'\n",
    "chaine=list(chaine)\n",
    "\n",
    "for i in range(N):\n",
    "    car=random.choice(chaine)\n",
    "    password.append(car)\n",
    "print(\"\".join(password))"
   ]
  },
  {
   "cell_type": "markdown",
   "metadata": {
    "collapsed": true
   },
   "source": [
    "### 4 - Boucle sur dictionnaire"
   ]
  },
  {
   "cell_type": "markdown",
   "metadata": {},
   "source": [
    "Pour les dictionnaires, on boucles soit sur les cles (keys), soit sur les valeurs (values), soit sur les deux"
   ]
  },
  {
   "cell_type": "code",
   "execution_count": 7,
   "metadata": {
    "collapsed": false
   },
   "outputs": [],
   "source": [
    "dict_alphabet = {'a':10,'b':20.0,'c':\"hello\"}\n",
    "\n"
   ]
  },
  {
   "cell_type": "markdown",
   "metadata": {},
   "source": [
    "On boucle sur les clefs ('a','b','c')"
   ]
  },
  {
   "cell_type": "code",
   "execution_count": 8,
   "metadata": {
    "collapsed": false
   },
   "outputs": [
    {
     "name": "stdout",
     "output_type": "stream",
     "text": [
      "c\n",
      "a\n",
      "b\n"
     ]
    }
   ],
   "source": [
    "\n",
    "for key in dict_alphabet.keys():\n",
    "    \n",
    "    print(key)"
   ]
  },
  {
   "cell_type": "markdown",
   "metadata": {},
   "source": [
    "On boucle sur les valeurs (1,2,3)"
   ]
  },
  {
   "cell_type": "code",
   "execution_count": 9,
   "metadata": {
    "collapsed": false
   },
   "outputs": [
    {
     "name": "stdout",
     "output_type": "stream",
     "text": [
      "hello\n",
      "10\n",
      "20.0\n"
     ]
    }
   ],
   "source": [
    "for val in dict_alphabet.values():\n",
    "    \n",
    "    print(val)"
   ]
  },
  {
   "cell_type": "markdown",
   "metadata": {},
   "source": [
    "!!! on peut recuperer les valeurs dans le dictionnaire a partir des clefs, mais pas l'inverse"
   ]
  },
  {
   "cell_type": "code",
   "execution_count": 10,
   "metadata": {
    "collapsed": false
   },
   "outputs": [
    {
     "name": "stdout",
     "output_type": "stream",
     "text": [
      "c hello\n",
      "a 10\n",
      "b 20.0\n"
     ]
    }
   ],
   "source": [
    "for key in dict_alphabet.keys():\n",
    "    \n",
    "    print(key, dict_alphabet[key])\n",
    "    "
   ]
  },
  {
   "cell_type": "markdown",
   "metadata": {},
   "source": [
    "!!! Attention, un dictionnaire n'a pas d' ordre, on va donc boucler dans un ordre inconnu"
   ]
  },
  {
   "cell_type": "markdown",
   "metadata": {},
   "source": [
    "La totale: on boucle sur les deux a la fois\n",
    "\n",
    "En python 3, on va utiliser items() (avant python < 3, iteritems())"
   ]
  },
  {
   "cell_type": "code",
   "execution_count": 11,
   "metadata": {
    "collapsed": false
   },
   "outputs": [
    {
     "name": "stdout",
     "output_type": "stream",
     "text": [
      "c hello\n",
      "a 10\n",
      "b 20.0\n"
     ]
    }
   ],
   "source": [
    "for key,val in dict_alphabet.items():\n",
    "    print (key,val)\n",
    "    "
   ]
  },
  {
   "cell_type": "markdown",
   "metadata": {},
   "source": [
    "#### Exercice 4.1: inverser un dictionnaire.\n",
    "\n",
    "dict_fr_to_en = { \"voiture\" : \"car\", \"maison\" : \"house\", \"vin\" : \"wine\", }\n",
    "\n",
    "donnera \n",
    "\n",
    "dict_en_to_fr = { ‘car’ : ‘voiture’,  ‘house’ : ‘maison’, ‘wine’ : ‘vin’}\n",
    "\n",
    "a la fin: \n",
    "print(dict_fr_to_en[\"voiture\"])\n",
    "print(dict_en_to_fr[\"car\"])\n",
    "\n",
    "!!! pour assigner une valeur a dict:\n",
    "\n",
    "dict_en_to_fr[key] = val\n",
    "\n",
    "!!! pour creer un dict vide:\n",
    "dict_en_to_fr = {}\n"
   ]
  },
  {
   "cell_type": "markdown",
   "metadata": {},
   "source": [
    "#### Solution Exercice 4.1"
   ]
  },
  {
   "cell_type": "code",
   "execution_count": 12,
   "metadata": {
    "collapsed": false
   },
   "outputs": [
    {
     "name": "stdout",
     "output_type": "stream",
     "text": [
      "{'house': 'maison', 'wine': 'vin', 'car': 'voiture'}\n"
     ]
    }
   ],
   "source": [
    "\n",
    "\n",
    "dict_fr_to_en = { \"voiture\" : \"car\", \"maison\" : \"house\", \"vin\" : \"wine\"}\n",
    "\n",
    "\n",
    "dict_en_to_fr = {}\n",
    "\n",
    "for key,value in dict_fr_to_en.items():\n",
    "    \n",
    "    dict_en_to_fr[value] = key\n",
    "    \n",
    "print(dict_en_to_fr)\n"
   ]
  },
  {
   "cell_type": "markdown",
   "metadata": {},
   "source": [
    "#### Exercice 4.2 -  traducteur en ligne francais – dothraki.\n",
    "\n",
    "On donne les paires de mots suivantes : \n",
    "____\n",
    "+ Ami : okeo\n",
    "+ Animal : rhoa\n",
    "+ Apprendre : nesolat\n",
    "+ Dragon : zhavorsa\n",
    "+ Fer : shiqethi\n",
    "+ Princesse : khalakki\n",
    "+ Reine : khaleesi\n",
    "+ Sang : qoy\n",
    "____\n",
    " \n",
    "- Ecrire la fonction init_dico(). \n",
    "Cette fonction remplit le dictionnaire avec les paires de mots déjà connues.\n",
    "\n",
    "- Ecrire la fonction ajoute_dico(). \n",
    "Cette fonction doit : \n",
    "    * Proposer un choix pour entrer un mot en Dothraki ou en Francais\n",
    "    * Demander le mot à l’utilisateur\n",
    "    * Demander sa traduction dans l’autre langue\n",
    "    * Ajouter la paire au dictionnaire\n",
    "\n",
    "- Ecrire la fonction affiche_dico() \n",
    "Cette fonction doit permettre d’afficher les mots et leur traduction par ordre alphabétique de la langue choisie, qui est soit le francais, soit le Dothraki selon le choix de l’utilisateur.\n",
    "Cette fonction affichera également le nombre de paires présentes dans le dictionnaire.\n",
    "\n",
    "- Ecrire la fonction recherche_dico()\n",
    "Cette fonction permet de rechercher un mot, dont l’utilisateur aura spécifié la langue d’appartenance, et de donner sa traduction. \n",
    "Prévoir le cas où le mot demandé n’est pas dans le dictionnaire, et le cas où le mot appartient en fait à l’autre langue (erreur utilisateur qu’on peut deviner et contourner)\n",
    "\n",
    "- Faire un programme fonctionnel à partir des éléments écrits précédemment.\n",
    "\n",
    "- Ajouter des controles pour les saisies fausses (pour les choix par exemple), et limiter la capacité du dictionnaire à 1000 entrées.\n"
   ]
  },
  {
   "cell_type": "code",
   "execution_count": null,
   "metadata": {
    "collapsed": true
   },
   "outputs": [],
   "source": [
    "#### correction exercice 4.2\n",
    "dic_max = 1000\n",
    "\n",
    "def init_dico():\n",
    "    dic = {\"ami\":\"okeo\", \"animal\":\"rhoa\", \"apprendre\":\"nesolat\", \"dragon\":\"zhavorsa\",\n",
    "           \"fer\":\"shiqathi\", \"princesse\":\"khalakki\", \"reine\":\"khaleesi\", \"sang\":\"qoy\"}\n",
    "    print(\"Le dictionnaire a été initialisé avec succès.\")\n",
    "    return dic\n",
    "\n",
    "\n",
    "def test_lang():\n",
    "    lang = input(\"Quelle langue souhaitez-vous utiliser ? (f/d)\")\n",
    "\n",
    "    while lang not in ['f', 'd']:\n",
    "        print(\"Erreur, veuillez entrer la langue (f/d)\")\n",
    "        lang = input(\"Quelle langue souhaitez-vous utiliser ? (f/d)\")\n",
    "\n",
    "    return lang\n",
    "\n",
    "def ajoute_dico(dic):\n",
    "    if len(list(dic.keys())) >= dic_max:\n",
    "        print(\"Capacité maximale du dictionnaire atteinte.\")\n",
    "    else:\n",
    "        lang = test_lang()\n",
    "        \n",
    "        #print(lang)\n",
    "        mot = input(\"Veuillez entrer le nouveau mot : \")\n",
    "        trad = input(\"Veuillez entrer sa traduction : \")\n",
    "        \n",
    "        if lang == 'f':\n",
    "            dic[mot] = trad\n",
    "        else:\n",
    "            dic[trad] = mot\n",
    "\n",
    "        return dic\n",
    "    \n",
    "def affiche_dico(dic):\n",
    "    lang = test_lang()\n",
    "    \n",
    "    if lang == 'f':\n",
    "        for i in sorted(dic.keys()):\n",
    "            print(i,\":\", dic[i])\n",
    "            \n",
    "    if lang == 'd':\n",
    "        dic_trie_valeur=sorted([(value,key) for (key,value) in dic.items()])\n",
    "        for i in dic_trie_valeur:\n",
    "            print(i[0], ':',i[1])\n",
    "\n",
    "            \n",
    "def recherche_dico(dic):\n",
    "    lang = test_lang()\n",
    "\n",
    "    if lang == 'f':\n",
    "        mot = input(\"Veuillez entrer un mot : \")\n",
    "        while mot not in list(dic.keys()) and mot not in list(dic.values()):\n",
    "            print(\"Erreur, le mot spécifié est inconnu.\")\n",
    "            mot = input(\"Veuillez entrer un mot : \")\n",
    "        if mot in dic.values():\n",
    "            print(\"Le mot est en Dothraki, sa traduction française est\", dic.get(mot))\n",
    "        else:\n",
    "            print(mot, \":\", dic[mot])\n",
    "\n",
    "    if lang == 'd':\n",
    "        mot = input(\"Veuillez entrer un mot : \")\n",
    "        while mot not in list(dic.keys()) and mot not in list(dic.values()):\n",
    "            print(\"Erreur, le mot spécifié est inconnu.\")\n",
    "            mot = input(\"Veuillez entrer un mot : \")\n",
    "        if mot in dic.keys():\n",
    "            print(\"Le mot est en Français, sa traduction dothraki est\", dic[mot])\n",
    "        else:\n",
    "            print(mot, \":\", dic.get(mot))\n",
    "###################################\n",
    "dico=init_dico()\n",
    "while True:\n",
    "    chx = 0\n",
    "    while chx not in ['1', '2', '3', 'q']:\n",
    "        chx = input(\"\\nSouhaitez-vous :\\n  Ajouter un mot ? 1\\n  Rechercher un mot ? 2\\n  Afficher le dictionnaire ? 3\\n  Quitter ? q\\n\")\n",
    "\n",
    "    if chx == '1':\n",
    "        ajoute_dico(dico)\n",
    "    elif chx == '2':\n",
    "        recherche_dico(dico)\n",
    "    elif chx == '3':\n",
    "        affiche_dico(dico)\n",
    "    elif chx == 'q':\n",
    "        break\n",
    "    else:\n",
    "        print(\"Vous avez vaincu la matrice !\")"
   ]
  },
  {
   "cell_type": "code",
   "execution_count": null,
   "metadata": {
    "collapsed": true
   },
   "outputs": [],
   "source": []
  },
  {
   "cell_type": "markdown",
   "metadata": {
    "collapsed": false
   },
   "source": [
    "\n",
    "\n",
    "#### Important:\n",
    "\n",
    "!!! l'ordre n'est pas conservé\n",
    "\n",
    "#### conclusion\n",
    "\n",
    "Dictionnaire semble simple mais c'est puissant avec des parametres (couleurs) a la place des listes\n",
    "\n",
    "La clef peut aussi etre construite (chaine de charactère)\n",
    "\n",
    "\n",
    "### 5 - Compréhension de listes\n",
    "\n",
    "\n"
   ]
  },
  {
   "cell_type": "markdown",
   "metadata": {},
   "source": [
    "#### Exercice 5.1 : compréhension de listes\n",
    "\n",
    "\n",
    "Générez, en compréhension de listes, à partir de : \n",
    "    \n",
    "noms = ['Jean', 'Maximilien', 'Brigitte', 'Sonia', 'Jean-Pierre', 'Sandra']\n",
    "\n",
    "deux nouvelles listes :  \n",
    "+ L’une contiendra les mots comportant moins de 6 caractères, \n",
    "+ l’autre les mots commencant par \"J\""
   ]
  },
  {
   "cell_type": "code",
   "execution_count": 10,
   "metadata": {
    "collapsed": false
   },
   "outputs": [
    {
     "name": "stdout",
     "output_type": "stream",
     "text": [
      "['Maximilien', 'Brigitte', 'Jean-Pierre', 'Sandra']\n",
      "['Jean', 'Jean-Pierre']\n"
     ]
    }
   ],
   "source": [
    "#### solution exercice 5.1\n",
    "\n",
    "noms=['Jean', 'Maximilien', 'Brigitte', 'Sonia', 'Jean-Pierre', 'Sandra']\n",
    "\n",
    "n6plus=[el for el in noms if (len(el)>=6)]\n",
    "n6J=[el for el in noms if el[0]==\"J\"]\n",
    "print(n6plus)\n",
    "print(n6J)"
   ]
  },
  {
   "cell_type": "markdown",
   "metadata": {},
   "source": [
    "#### Exercice 5.2 : compréhension de listes\n",
    "liste = [\"a\", \"yoda\", \"foo\", \"b\", \"c\", \"b\", \"d\", \"d\"] \n",
    "\n",
    "Ecrire, en une seule ligne l'instruction qui permet d'obtenir une nouvelle liste qui : \n",
    "- contient tous les éléments de liste de longueur inférieure ou égale à 2 \n",
    "\n",
    "- contient tous les éléments de liste qui ne sont pas \"d\" \n",
    "\n",
    "- contient tous les éléments de liste qui se répètent plusieurs fois"
   ]
  },
  {
   "cell_type": "code",
   "execution_count": null,
   "metadata": {
    "collapsed": true
   },
   "outputs": [],
   "source": [
    "#### Correction exercice 5.2\n",
    "\n",
    "liste = [\"a\", \"yoda\", \"foo\", \"b\", \"c\", \"b\", \"d\", \"d\"] \n",
    "\n",
    "l=[el for el in liste if len(el)<=2]\n",
    "print(l)\n",
    "l=[el for el in liste if el !=\"d\"]\n",
    "print(l)\n",
    "l=[el for el in liste if liste.count(el)>1]\n",
    "print(l)"
   ]
  },
  {
   "cell_type": "markdown",
   "metadata": {},
   "source": [
    "### 6 - Les subtilités de range\n",
    "\n",
    "Vous avez pu voir que quand on a affiché range(10), on avait en fait les valeurs 0,1, ... , 9\n",
    "\n"
   ]
  },
  {
   "cell_type": "code",
   "execution_count": 13,
   "metadata": {
    "collapsed": false
   },
   "outputs": [
    {
     "name": "stdout",
     "output_type": "stream",
     "text": [
      "0\n",
      "1\n",
      "2\n",
      "3\n",
      "4\n",
      "5\n",
      "6\n",
      "7\n",
      "8\n",
      "9\n"
     ]
    }
   ],
   "source": [
    "for i in range(10):\n",
    "    print(i)"
   ]
  },
  {
   "cell_type": "markdown",
   "metadata": {
    "collapsed": true
   },
   "source": [
    "En fait on a 10 éléments (qui correspondent au '10' que l'on a donné en argument), avec les indexes qui partent de 0 \n",
    "\n",
    "python fonctionne de maniere bizarre, mais qui est en fait tres pratique:"
   ]
  },
  {
   "cell_type": "code",
   "execution_count": 14,
   "metadata": {
    "collapsed": false
   },
   "outputs": [
    {
     "name": "stdout",
     "output_type": "stream",
     "text": [
      "5\n",
      "6\n",
      "7\n",
      "8\n",
      "9\n"
     ]
    }
   ],
   "source": [
    "## example avec range(start = 5, stop = 10)\n",
    "\n",
    "for i in range(5,10):\n",
    "    print(i)\n",
    "\n",
    "    "
   ]
  },
  {
   "cell_type": "markdown",
   "metadata": {
    "collapsed": true
   },
   "source": [
    "!!! on indique le premiere valeur (5) qui est incluse, mais la derniere valeur (10) est EXCLUE\n",
    "\n",
    "L'explication tiens au fait qu'avec l'indexation qui commence a 0, pour les indexes de 5 à 10, on se retrouve avec 6 elements si [5,6,7,8,9,10]. Dans les autres languages (type C, C++) , on en permanence en train de jouer avec des N-1, ou des < (strictement inférieur) à N. Ici on sait que l'on veut *start - stop* = N (5) elements, donc on indique 5 (la ou l'on commence) et 10 (le dernier element non inclus), et on a bien 5 elements, meme si la liste s'arrete a 9"
   ]
  },
  {
   "cell_type": "markdown",
   "metadata": {},
   "source": [
    "Il y a un troisieme parametre dans range, qui est le pas (step):\n",
    "\n",
    "range(start,stop,step)"
   ]
  },
  {
   "cell_type": "code",
   "execution_count": 15,
   "metadata": {
    "collapsed": false
   },
   "outputs": [
    {
     "name": "stdout",
     "output_type": "stream",
     "text": [
      "5\n",
      "7\n",
      "9\n",
      "11\n",
      "13\n",
      "15\n",
      "17\n",
      "19\n"
     ]
    }
   ],
   "source": [
    "for i in range(5,20,2):\n",
    "    print(i)\n"
   ]
  },
  {
   "cell_type": "markdown",
   "metadata": {
    "collapsed": false
   },
   "source": [
    "On verra par la suite avec le slicing, mais:\n",
    " \n",
    "- si un seul parametre à la fonction:\n",
    "range(20) -> stop = 20 (default, start = 0, step 1)\n",
    "\n",
    "- si deux parametres à la fonction: \n",
    "range(5,10) -> start = 5, stop = 10 (default, step = 1) \n",
    "\n",
    "!!! range(20,2) retourne une liste vide (start = 20, stop = 2, impossible)"
   ]
  },
  {
   "cell_type": "code",
   "execution_count": 16,
   "metadata": {
    "collapsed": true
   },
   "outputs": [],
   "source": [
    "for i in range(20,2):\n",
    "    print(i)"
   ]
  },
  {
   "cell_type": "markdown",
   "metadata": {},
   "source": [
    "### 7 - Indexation des elements"
   ]
  },
  {
   "cell_type": "markdown",
   "metadata": {},
   "source": [
    "on peut acceder a des elements pour leur index, entre 0 et N-1 si on a N elements dans une liste"
   ]
  },
  {
   "cell_type": "code",
   "execution_count": 17,
   "metadata": {
    "collapsed": false
   },
   "outputs": [
    {
     "name": "stdout",
     "output_type": "stream",
     "text": [
      "a\n"
     ]
    }
   ],
   "source": [
    "lettres = ['a','b','c','d','e','f','g','h']\n",
    "\n",
    "print(lettres[0])"
   ]
  },
  {
   "cell_type": "code",
   "execution_count": 18,
   "metadata": {
    "collapsed": false
   },
   "outputs": [
    {
     "name": "stdout",
     "output_type": "stream",
     "text": [
      "b\n"
     ]
    }
   ],
   "source": [
    "print(lettres[1])"
   ]
  },
  {
   "cell_type": "code",
   "execution_count": 19,
   "metadata": {
    "collapsed": false
   },
   "outputs": [
    {
     "ename": "IndexError",
     "evalue": "list index out of range",
     "output_type": "error",
     "traceback": [
      "\u001b[1;31m---------------------------------------------------------------------------\u001b[0m",
      "\u001b[1;31mIndexError\u001b[0m                                Traceback (most recent call last)",
      "\u001b[1;32m<ipython-input-19-d948c5a04436>\u001b[0m in \u001b[0;36m<module>\u001b[1;34m()\u001b[0m\n\u001b[0;32m      1\u001b[0m \u001b[1;31m## attention, lettres[N] - avec N la longueur de la liste - plante\u001b[0m\u001b[1;33m\u001b[0m\u001b[1;33m\u001b[0m\u001b[0m\n\u001b[1;32m----> 2\u001b[1;33m \u001b[0mprint\u001b[0m\u001b[1;33m(\u001b[0m\u001b[0mlettres\u001b[0m\u001b[1;33m[\u001b[0m\u001b[1;36m8\u001b[0m\u001b[1;33m]\u001b[0m\u001b[1;33m)\u001b[0m\u001b[1;33m\u001b[0m\u001b[0m\n\u001b[0m",
      "\u001b[1;31mIndexError\u001b[0m: list index out of range"
     ]
    }
   ],
   "source": [
    "## attention, lettres[N] - avec N la longueur de la liste - plante \n",
    "print(lettres[8])"
   ]
  },
  {
   "cell_type": "markdown",
   "metadata": {},
   "source": [
    "-1 a un comportement spécial: il permet d'indiquer le dernier element de la liste \n"
   ]
  },
  {
   "cell_type": "code",
   "execution_count": 20,
   "metadata": {
    "collapsed": false
   },
   "outputs": [
    {
     "name": "stdout",
     "output_type": "stream",
     "text": [
      "h\n"
     ]
    }
   ],
   "source": [
    "print(lettres[-1])\n"
   ]
  },
  {
   "cell_type": "markdown",
   "metadata": {},
   "source": [
    "Il est donc equivalent à len(lettres)-1, mais quelque soit la longueur de la liste"
   ]
  },
  {
   "cell_type": "code",
   "execution_count": 21,
   "metadata": {
    "collapsed": false
   },
   "outputs": [
    {
     "name": "stdout",
     "output_type": "stream",
     "text": [
      "h\n"
     ]
    }
   ],
   "source": [
    "len_list = len(lettres)\n",
    "print(lettres[len_list-1])"
   ]
  },
  {
   "cell_type": "code",
   "execution_count": 22,
   "metadata": {
    "collapsed": false
   },
   "outputs": [
    {
     "name": "stdout",
     "output_type": "stream",
     "text": [
      "g\n"
     ]
    }
   ],
   "source": [
    "# et on peut faire du moonwalk...\n",
    "print(lettres[-2])"
   ]
  },
  {
   "cell_type": "markdown",
   "metadata": {},
   "source": [
    "### 8 - Slicing sur liste"
   ]
  },
  {
   "cell_type": "markdown",
   "metadata": {},
   "source": [
    "Quand on veut recuperer plusieurs elements (dans un intervale par exemple), on parle de slicing\n",
    "\n",
    "Un intervale est specifie par start:stop(:step) AVEC STOP NON INCLUS (comme range)\n",
    "\n",
    "Par defaut (si omis), step = 1 (comme range)\n"
   ]
  },
  {
   "cell_type": "code",
   "execution_count": 23,
   "metadata": {
    "collapsed": false
   },
   "outputs": [
    {
     "name": "stdout",
     "output_type": "stream",
     "text": [
      "['b', 'd', 'f']\n"
     ]
    }
   ],
   "source": [
    "lettres = ['a','b','c','d','e','f','g','h']\n",
    "\n",
    "print(lettres[1:7:2])"
   ]
  },
  {
   "cell_type": "code",
   "execution_count": 24,
   "metadata": {
    "collapsed": false
   },
   "outputs": [
    {
     "name": "stdout",
     "output_type": "stream",
     "text": [
      "['b', 'd', 'f', 'h']\n"
     ]
    }
   ],
   "source": [
    "#tous les 2 elements a partir du second \n",
    "print(lettres[1::2])"
   ]
  },
  {
   "cell_type": "code",
   "execution_count": 25,
   "metadata": {
    "collapsed": false
   },
   "outputs": [
    {
     "name": "stdout",
     "output_type": "stream",
     "text": [
      "['d', 'e']\n"
     ]
    }
   ],
   "source": [
    "## a partir du 4eme element et jusqu'6eme NON INCLUS\n",
    "print(lettres[3:5])"
   ]
  },
  {
   "cell_type": "code",
   "execution_count": 26,
   "metadata": {
    "collapsed": false
   },
   "outputs": [
    {
     "name": "stdout",
     "output_type": "stream",
     "text": [
      "['a', 'b', 'c', 'd', 'e']\n"
     ]
    }
   ],
   "source": [
    "## debut explicite, step = 1 explicite\n",
    "print(lettres[:5])"
   ]
  },
  {
   "cell_type": "markdown",
   "metadata": {},
   "source": [
    "Si on indique un step négatif, on va dans l'ordre decroissant\n"
   ]
  },
  {
   "cell_type": "code",
   "execution_count": 27,
   "metadata": {
    "collapsed": false
   },
   "outputs": [
    {
     "name": "stdout",
     "output_type": "stream",
     "text": [
      "['f', 'e']\n"
     ]
    }
   ],
   "source": [
    "print(lettres[5:3:-1])\n"
   ]
  },
  {
   "cell_type": "markdown",
   "metadata": {},
   "source": [
    "!!! Attention a ce que cette fois, le pus grand index (5) est inclus - 6eme element f - est le plus petit index (3 - 4eme élement) est exclu "
   ]
  },
  {
   "cell_type": "code",
   "execution_count": 28,
   "metadata": {
    "collapsed": false
   },
   "outputs": [
    {
     "name": "stdout",
     "output_type": "stream",
     "text": [
      "['h', 'g', 'f', 'e', 'd', 'c', 'b', 'a']\n"
     ]
    }
   ],
   "source": [
    "\n",
    "## ordre inverse de la liste\n",
    "print(lettres[::-1])"
   ]
  },
  {
   "cell_type": "markdown",
   "metadata": {},
   "source": [
    "!!! il faut indiquer un start ET un stop pour indiquer un step, avec 2 fois ':' . Si deux valeurs (et un seul ':') seulement sont indiqués, par defaut c'est start et stop"
   ]
  },
  {
   "cell_type": "code",
   "execution_count": 29,
   "metadata": {
    "collapsed": false
   },
   "outputs": [
    {
     "name": "stdout",
     "output_type": "stream",
     "text": [
      "['f', 'g']\n"
     ]
    }
   ],
   "source": [
    "print(lettres[5:-1])\n",
    "## On part du 6eme élement jusqu'a l'avant derniere (signification du -1)"
   ]
  },
  {
   "cell_type": "code",
   "execution_count": 30,
   "metadata": {
    "collapsed": false
   },
   "outputs": [
    {
     "name": "stdout",
     "output_type": "stream",
     "text": [
      "['f', 'e', 'd', 'c', 'b']\n"
     ]
    }
   ],
   "source": [
    "print(lettres[5:0:-1])\n",
    "## on part du 6eme élement et on va jusqu'a la premiere (non incluse) dans l'ordre inverse\n",
    "\n",
    "####### comment on fait pour inclure aussi la premiere valeur???\n",
    "#print(lettres[5::-1])"
   ]
  },
  {
   "cell_type": "markdown",
   "metadata": {
    "collapsed": true
   },
   "source": [
    "#### Exercice 8.1 :  slicing + concat\n",
    "\n",
    "decoder le message suivant:\n",
    "\n",
    "l = [\"python\", \"compris\", \"c'est\", \"parfaitement\",   \"super\",   \"j'ai\"]  \n",
    "\n"
   ]
  },
  {
   "cell_type": "code",
   "execution_count": 1,
   "metadata": {
    "collapsed": false
   },
   "outputs": [
    {
     "name": "stdout",
     "output_type": "stream",
     "text": [
      "['python', \"c'est\", 'super', \"j'ai\", 'parfaitement', 'compris']\n"
     ]
    }
   ],
   "source": [
    "## solution 8.1\n",
    "l = [\"python\", \"compris\", \"c'est\", \"parfaitement\",   \"super\",   \"j'ai\"]  \n",
    "\n",
    "print(l[::2] + l[5::-2])\n"
   ]
  },
  {
   "cell_type": "markdown",
   "metadata": {},
   "source": [
    "#### Exercice 8.2 : le palindrome\n",
    "\n",
    "La phrase : \n",
    "\n",
    "###### \"eh ca va la vache\"\n",
    "\n",
    "est un palindrome.\n",
    "\n",
    "Vérifiez le !\n",
    "\n",
    "NB : une chaine de caractères peut contenir des espaces, à enlever \n",
    "\n",
    "NB2 : la méthode .remove(x) enlève la première occurence de x dans une LISTE"
   ]
  },
  {
   "cell_type": "code",
   "execution_count": 11,
   "metadata": {
    "collapsed": false
   },
   "outputs": [
    {
     "name": "stdout",
     "output_type": "stream",
     "text": [
      "['e', 'h', 'c', 'a', 'v', 'a', 'l', 'a', 'v', 'a', 'c', 'h', 'e']\n",
      "palindrome\n",
      "La phrase est un palindrome :  True\n"
     ]
    }
   ],
   "source": [
    "phrase = \"eh ca va la vache\"\n",
    "phrase=list(phrase)\n",
    "for i in range(phrase.count(\" \")):\n",
    "    phrase.remove(\" \")\n",
    "\n",
    "phrase_envers=phrase[::-1]\n",
    "\n",
    "print(phrase_envers)\n",
    "\n",
    "if (phrase == phrase_envers) :\n",
    "    print(\"palindrome\")\n",
    "else :\n",
    "    print(\"pas palindrome\")\n",
    "    \n",
    "# ou : \n",
    "\n",
    "print(\"La phrase est un palindrome : \", (phrase==phrase[::-1]) )\n",
    "    "
   ]
  },
  {
   "cell_type": "markdown",
   "metadata": {},
   "source": [
    "#### Exercice 8.3 : slicing\n",
    "A partir d'une liste générée automatiquement, contenant tous les nombres de 50 à 100, créez une deuxième liste avec tous les pairs."
   ]
  },
  {
   "cell_type": "code",
   "execution_count": null,
   "metadata": {
    "collapsed": true
   },
   "outputs": [],
   "source": [
    "liste=[]\n",
    "for i in range(50,101):\n",
    "    liste.append(i)\n",
    "print(liste)\n",
    "liste2=liste[::2]\n",
    "print(liste2)"
   ]
  },
  {
   "cell_type": "markdown",
   "metadata": {},
   "source": [
    "#### Exercice 8.4 : copie / clonage\n",
    "\n",
    "Créez une liste avec 3 éléments.\n",
    "\n",
    "Faites une copie de cette liste.\n",
    "\n",
    "Changez un des éléments dans la liste originelle.\n",
    "\n",
    "Que constatez-vous sur la copie ?\n",
    "\n"
   ]
  },
  {
   "cell_type": "code",
   "execution_count": null,
   "metadata": {
    "collapsed": true
   },
   "outputs": [],
   "source": [
    "l1=[1,2,3]\n",
    "l2=l1\n",
    "print(l2)\n",
    "l1[0]=1000\n",
    "print(l2)"
   ]
  },
  {
   "cell_type": "markdown",
   "metadata": {},
   "source": [
    "#### Exercice 8.5 : slicing de liste\n",
    "On a la liste suivante : \n",
    "\n",
    "liste = \"Amanda\" \n",
    "\n",
    "Utilisez le slicing pour obtenir les chaines suivantes : \n",
    "+ A \n",
    "+ a \n",
    "+ n \n",
    "+ man \n",
    "+ Aa \n",
    "+ adnamA \n",
    "+ nda \n",
    "+ anm \n",
    "+ aa \n",
    "+ da"
   ]
  },
  {
   "cell_type": "code",
   "execution_count": null,
   "metadata": {
    "collapsed": true
   },
   "outputs": [],
   "source": [
    "liste = \"Amanda\"\n",
    "print(liste[0])\n",
    "print(liste[-1])\n",
    "print(liste[-3])\n",
    "print(liste[1:4])\n",
    "print(liste[0:4:2])\n",
    "print(liste[::-1])\n",
    "print(liste[3:])\n",
    "print(liste[::-2])\n",
    "print(liste[::-3])\n",
    "print(liste[-2:])"
   ]
  },
  {
   "cell_type": "markdown",
   "metadata": {},
   "source": [
    "### 9 - Lire/ecrire les datas\n",
    "\n",
    "python suit les specifications d'autres languages pour ecrire des valeurs dans un fichier texte:\n",
    "\n",
    "f = open(\"filename.txt\",\"w\") ### pour w = write\n",
    "try:\n",
    "    f.write(\"blabla\") ### ecrite une ligne de texte   \n",
    "finally:\n",
    "    f.close() ### ferme le fichier\n",
    " \n",
    "\n",
    "Mais une syntaxe beaucoup simple existe également:\n",
    "\n",
    "with f as open(\"filename.txt\"):\n",
    "    f.write(\"blabla\")\n",
    "    \n",
    "    "
   ]
  },
  {
   "cell_type": "code",
   "execution_count": 32,
   "metadata": {
    "collapsed": true
   },
   "outputs": [],
   "source": [
    "import os ### package de manipulation de fichier\n",
    "\n",
    "filename = os.path.abspath(\"essai.txt\")\n",
    "\n",
    "with open(filename,\"w\") as f:\n",
    "    f.write(\"blabla\")"
   ]
  },
  {
   "cell_type": "code",
   "execution_count": null,
   "metadata": {
    "collapsed": true
   },
   "outputs": [],
   "source": []
  },
  {
   "cell_type": "code",
   "execution_count": null,
   "metadata": {
    "collapsed": true
   },
   "outputs": [],
   "source": []
  }
 ],
 "metadata": {
  "kernelspec": {
   "display_name": "Python 3",
   "language": "python",
   "name": "python3"
  },
  "language_info": {
   "codemirror_mode": {
    "name": "ipython",
    "version": 3
   },
   "file_extension": ".py",
   "mimetype": "text/x-python",
   "name": "python",
   "nbconvert_exporter": "python",
   "pygments_lexer": "ipython3",
   "version": "3.4.5"
  }
 },
 "nbformat": 4,
 "nbformat_minor": 0
}
